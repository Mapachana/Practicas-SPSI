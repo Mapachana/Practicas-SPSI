{
 "cells": [
  {
   "cell_type": "markdown",
   "metadata": {},
   "source": [
    "# Ejercicio 2: AES"
   ]
  },
  {
   "cell_type": "markdown",
   "metadata": {},
   "source": [
    "## Apartado a"
   ]
  },
  {
   "cell_type": "markdown",
   "metadata": {},
   "source": [
    "A continuación se define el cuerpo $R = \\mathbb{Z}_2 [x] / (x^8 + x^4 + x^3 + x + 1)$, como indican las especificaciones del algoritmo."
   ]
  },
  {
   "cell_type": "code",
   "execution_count": 1,
   "metadata": {
    "scrolled": false
   },
   "outputs": [
    {
     "data": {
      "text/plain": [
       "Univariate Quotient Polynomial Ring in x over Finite Field of size 2 with modulus x^8 + x^4 + x^3 + x + 1"
      ]
     },
     "execution_count": 1,
     "metadata": {},
     "output_type": "execute_result"
    }
   ],
   "source": [
    "R = PolynomialRing(GF(2), 'x').quotient('x^8 + x^4 + x^3 + x + 1', 'x')\n",
    "R"
   ]
  },
  {
   "cell_type": "markdown",
   "metadata": {},
   "source": [
    "### Transformaciones entre las distintas formas de representar un byte"
   ]
  },
  {
   "cell_type": "code",
   "execution_count": 2,
   "metadata": {},
   "outputs": [],
   "source": [
    "# Binario a hexadecimal\n",
    "def bin_to_hex(binary):\n",
    "    return hex(int(binary,2))[2:].zfill(2)\n",
    "\n",
    "# Hexadecimal a binario\n",
    "def hex_to_bin(hexadecimal):\n",
    "    return bin(int(hexadecimal, 16))[2:].zfill(8)\n",
    "\n",
    "# Polinomio correspondiente a un binario\n",
    "def bin_to_pol(binary):\n",
    "    binary_list_int = [int(c) for c in binary[::-1]]\n",
    "    return R(binary_list_int)\n",
    "\n",
    "# Binario correspondiente a un polinomio\n",
    "def pol_to_bin(pol):\n",
    "    return ''.join([str(c) for c in pol.list()[::-1]])\n",
    "\n",
    "# Hexadecimal correspondiente a un polinomio\n",
    "def pol_to_hex(pol):\n",
    "    return bin_to_hex(pol_to_bin(pol))\n",
    "\n",
    "# Polinomio correspondiente a un hexadecimal\n",
    "def hex_to_pol(hexadecimal):\n",
    "    return bin_to_pol(hex_to_bin(hexadecimal))"
   ]
  },
  {
   "cell_type": "markdown",
   "metadata": {},
   "source": [
    "Definimos la siguiente matriz que se usa en la transformación afín."
   ]
  },
  {
   "cell_type": "code",
   "execution_count": 3,
   "metadata": {},
   "outputs": [
    {
     "data": {
      "text/plain": [
       "[1 0 0 0 1 1 1 1]\n",
       "[1 1 0 0 0 1 1 1]\n",
       "[1 1 1 0 0 0 1 1]\n",
       "[1 1 1 1 0 0 0 1]\n",
       "[1 1 1 1 1 0 0 0]\n",
       "[0 1 1 1 1 1 0 0]\n",
       "[0 0 1 1 1 1 1 0]\n",
       "[0 0 0 1 1 1 1 1]"
      ]
     },
     "execution_count": 3,
     "metadata": {},
     "output_type": "execute_result"
    }
   ],
   "source": [
    "M = matrix(Integers(2),8,[\n",
    "        1,0,0,0,1,1,1,1,\n",
    "        1,1,0,0,0,1,1,1,\n",
    "        1,1,1,0,0,0,1,1,\n",
    "        1,1,1,1,0,0,0,1,\n",
    "        1,1,1,1,1,0,0,0,\n",
    "        0,1,1,1,1,1,0,0,\n",
    "        0,0,1,1,1,1,1,0,\n",
    "        0,0,0,1,1,1,1,1,\n",
    "    ])\n",
    "M"
   ]
  },
  {
   "cell_type": "markdown",
   "metadata": {},
   "source": [
    "Calculamos la inversa de dicha matriz, que nos será útil para calcular la inversa de la transformación afín."
   ]
  },
  {
   "cell_type": "code",
   "execution_count": 4,
   "metadata": {
    "scrolled": true
   },
   "outputs": [
    {
     "data": {
      "text/plain": [
       "[0 0 1 0 0 1 0 1]\n",
       "[1 0 0 1 0 0 1 0]\n",
       "[0 1 0 0 1 0 0 1]\n",
       "[1 0 1 0 0 1 0 0]\n",
       "[0 1 0 1 0 0 1 0]\n",
       "[0 0 1 0 1 0 0 1]\n",
       "[1 0 0 1 0 1 0 0]\n",
       "[0 1 0 0 1 0 1 0]"
      ]
     },
     "execution_count": 4,
     "metadata": {},
     "output_type": "execute_result"
    }
   ],
   "source": [
    "# Inversa de la matriz M\n",
    "M_inv = M**(-1)\n",
    "M_inv"
   ]
  },
  {
   "cell_type": "markdown",
   "metadata": {},
   "source": [
    "De esta forma, podemos definir siguiente función, `sbox(x,y)`, que dado un byte `xy` sea capaz de aportar la entrada correspondiente a la fila `x` y la columna `y` en la tabla de la Figura 4.9 de los apuntes."
   ]
  },
  {
   "cell_type": "markdown",
   "metadata": {},
   "source": [
    "Para ello, se ha calculado la inversa de la transformación afín (4.3) seguida de la toma del inverso multiplicativo en $GF(2^8)$."
   ]
  },
  {
   "cell_type": "code",
   "execution_count": 5,
   "metadata": {},
   "outputs": [
    {
     "data": {
      "text/plain": [
       "'50'"
      ]
     },
     "execution_count": 5,
     "metadata": {},
     "output_type": "execute_result"
    }
   ],
   "source": [
    "def sbox(x,y):\n",
    "    xy = x + y\n",
    "    byte_bin = hex_to_bin(xy) # Polinomio correspondiente de xy\n",
    "    c = vector(Integers(2), [1,1,0,0,0,1,1,0]) # coeficientes del byte {63}\n",
    "    b = vector(Integers(2), [int(c) for c in byte_bin[::-1]])\n",
    "    res = M_inv*(b-c) # Inversa de la transformación afín\n",
    "    \n",
    "    if (res == 0):\n",
    "        res = '00'\n",
    "    else:\n",
    "        res = bin_to_pol(''.join([str(c) for c in res[::-1]]))\n",
    "        res = R(res**(-1))\n",
    "        res = pol_to_hex(res)\n",
    "    return res\n",
    "\n",
    "x = '5'\n",
    "y = '3'\n",
    "sbox(x,y)"
   ]
  },
  {
   "cell_type": "markdown",
   "metadata": {},
   "source": [
    "Luego la posición 43 en la tabla 4.9 viene ocupada por `50`."
   ]
  },
  {
   "cell_type": "markdown",
   "metadata": {},
   "source": [
    "## Apartado b"
   ]
  },
  {
   "cell_type": "markdown",
   "metadata": {},
   "source": [
    "### Matriz de `S-Box inversa`"
   ]
  },
  {
   "cell_type": "markdown",
   "metadata": {},
   "source": [
    "Obtenemos la matriz que corresponde a S-box inversa, que contiene los valores de sustitución para el byte `xy` (en formato hexadecimal)."
   ]
  },
  {
   "cell_type": "code",
   "execution_count": 6,
   "metadata": {
    "scrolled": false
   },
   "outputs": [
    {
     "name": "stdout",
     "output_type": "stream",
     "text": [
      "['52', '09', '6a', 'd5', '30', '36', 'a5', '38', 'bf', '40', 'a3', '9e', '81', 'f3', 'd7', 'fb']\n",
      "['7c', 'e3', '39', '82', '9b', '2f', 'ff', '87', '34', '8e', '43', '44', 'c4', 'de', 'e9', 'cb']\n",
      "['54', '7b', '94', '32', 'a6', 'c2', '23', '3d', 'ee', '4c', '95', '0b', '42', 'fa', 'c3', '4e']\n",
      "['08', '2e', 'a1', '66', '28', 'd9', '24', 'b2', '76', '5b', 'a2', '49', '6d', '8b', 'd1', '25']\n",
      "['72', 'f8', 'f6', '64', '86', '68', '98', '16', 'd4', 'a4', '5c', 'cc', '5d', '65', 'b6', '92']\n",
      "['6c', '70', '48', '50', 'fd', 'ed', 'b9', 'da', '5e', '15', '46', '57', 'a7', '8d', '9d', '84']\n",
      "['90', 'd8', 'ab', '00', '8c', 'bc', 'd3', '0a', 'f7', 'e4', '58', '05', 'b8', 'b3', '45', '06']\n",
      "['d0', '2c', '1e', '8f', 'ca', '3f', '0f', '02', 'c1', 'af', 'bd', '03', '01', '13', '8a', '6b']\n",
      "['3a', '91', '11', '41', '4f', '67', 'dc', 'ea', '97', 'f2', 'cf', 'ce', 'f0', 'b4', 'e6', '73']\n",
      "['96', 'ac', '74', '22', 'e7', 'ad', '35', '85', 'e2', 'f9', '37', 'e8', '1c', '75', 'df', '6e']\n",
      "['47', 'f1', '1a', '71', '1d', '29', 'c5', '89', '6f', 'b7', '62', '0e', 'aa', '18', 'be', '1b']\n",
      "['fc', '56', '3e', '4b', 'c6', 'd2', '79', '20', '9a', 'db', 'c0', 'fe', '78', 'cd', '5a', 'f4']\n",
      "['1f', 'dd', 'a8', '33', '88', '07', 'c7', '31', 'b1', '12', '10', '59', '27', '80', 'ec', '5f']\n",
      "['60', '51', '7f', 'a9', '19', 'b5', '4a', '0d', '2d', 'e5', '7a', '9f', '93', 'c9', '9c', 'ef']\n",
      "['a0', 'e0', '3b', '4d', 'ae', '2a', 'f5', 'b0', 'c8', 'eb', 'bb', '3c', '83', '53', '99', '61']\n",
      "['17', '2b', '04', '7e', 'ba', '77', 'd6', '26', 'e1', '69', '14', '63', '55', '21', '0c', '7d']\n"
     ]
    }
   ],
   "source": [
    "hex_digits = [hex(i)[2:] for i in range(16)]\n",
    "s_box = []\n",
    "\n",
    "for x in hex_digits:\n",
    "    row = []\n",
    "    \n",
    "    for y in hex_digits:\n",
    "        row.append(sbox(x,y)) # Calcular la entrada en S-box inversa del byte xy\n",
    "    \n",
    "    s_box.append(row)\n",
    "\n",
    "# Imprimir por pantalla la matriz S-Box inversa    \n",
    "for row in s_box:\n",
    "    print(row)"
   ]
  }
 ],
 "metadata": {
  "kernelspec": {
   "display_name": "SageMath 9.0",
   "language": "sage",
   "name": "sagemath"
  },
  "language_info": {
   "codemirror_mode": {
    "name": "ipython",
    "version": 3
   },
   "file_extension": ".py",
   "mimetype": "text/x-python",
   "name": "python",
   "nbconvert_exporter": "python",
   "pygments_lexer": "ipython3",
   "version": "3.8.10"
  }
 },
 "nbformat": 4,
 "nbformat_minor": 2
}
