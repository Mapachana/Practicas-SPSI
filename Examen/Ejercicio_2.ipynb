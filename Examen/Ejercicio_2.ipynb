{
 "cells": [
  {
   "cell_type": "markdown",
   "metadata": {},
   "source": [
    "# Ejercicio 2: AES"
   ]
  },
  {
   "cell_type": "markdown",
   "metadata": {},
   "source": [
    "## Apartado a"
   ]
  },
  {
   "cell_type": "markdown",
   "metadata": {},
   "source": [
    "A continuación se define el cuerpo $R = \\mathbb{Z}_2 [x] / (x^8 + x^4 + x^3 + x + 1)\\cong GF(2^8)$, como indican las especificaciones del algoritmo."
   ]
  },
  {
   "cell_type": "code",
   "execution_count": 1,
   "metadata": {
    "scrolled": false
   },
   "outputs": [
    {
     "data": {
      "text/plain": [
       "Univariate Quotient Polynomial Ring in x over Finite Field of size 2 with modulus x^8 + x^4 + x^3 + x + 1"
      ]
     },
     "execution_count": 1,
     "metadata": {},
     "output_type": "execute_result"
    }
   ],
   "source": [
    "R = PolynomialRing(GF(2), 'x').quotient('x^8 + x^4 + x^3 + x + 1', 'x')\n",
    "R"
   ]
  },
  {
   "cell_type": "markdown",
   "metadata": {},
   "source": [
    "### Transformaciones entre las distintas formas de representar un byte"
   ]
  },
  {
   "cell_type": "code",
   "execution_count": 2,
   "metadata": {},
   "outputs": [],
   "source": [
    "# Binario a hexadecimal\n",
    "def bin_to_hex(binary):\n",
    "    '''\n",
    "    Argumentos:\n",
    "        - binary: Cadena binaria de longitud 8 que representa un byte en binario\n",
    "    Salidas:\n",
    "        - Cadena en hexadecimal de longitud 2 que representa un byte en hexadecimal\n",
    "    '''\n",
    "    return hex(int(binary,2))[2:].zfill(2)\n",
    "\n",
    "# Hexadecimal a binario\n",
    "def hex_to_bin(hexadecimal):\n",
    "    '''\n",
    "    Argumentos:\n",
    "        - hexadecimal: Cadena hexadecimal de longitud 2 que representa un byte en hexadecimal\n",
    "    Salidas:\n",
    "        - Cadena en binario de longitud 8 que representa un byte en binario\n",
    "    '''\n",
    "    return bin(int(hexadecimal, 16))[2:].zfill(8)\n",
    "\n",
    "# Polinomio correspondiente a un binario\n",
    "def bin_to_pol(binary):\n",
    "    '''\n",
    "    Argumentos:\n",
    "        - binary: Cadena binaria de longitud 8 que representa un byte en binario\n",
    "    Salidas:\n",
    "        - Polinomio de GF(2^8) que representa el byte.\n",
    "    '''\n",
    "    binary_list_int = [int(c) for c in binary[::-1]]\n",
    "    return R(binary_list_int)\n",
    "\n",
    "# Binario correspondiente a un polinomio\n",
    "def pol_to_bin(pol):\n",
    "    '''\n",
    "    Argumentos:\n",
    "        - pol: Polinomio de GF(2^8) que representa el byte.\n",
    "    Salidas:\n",
    "        - Cadena en binario de longitud 8 que representa un byte en binario\n",
    "    '''\n",
    "    return ''.join([str(c) for c in pol.list()[::-1]])\n",
    "\n",
    "# Hexadecimal correspondiente a un polinomio\n",
    "def pol_to_hex(pol):\n",
    "    '''\n",
    "    Argumentos:\n",
    "        - pol: Polinomio de GF(2^8) que representa el byte.\n",
    "    Salidas:\n",
    "        - Cadena en hexadecimal de longitud 2 que representa un byte en hexadecimal\n",
    "    '''\n",
    "    return bin_to_hex(pol_to_bin(pol))\n",
    "\n",
    "# Polinomio correspondiente a un hexadecimal\n",
    "def hex_to_pol(hexadecimal):\n",
    "    '''\n",
    "    Argumentos:\n",
    "        - hexadecimal: Cadena hexadecimal de longitud 2 que representa un byte en hexadecimal\n",
    "    Salidas:\n",
    "        - Polinomio de GF(2^8) que representa el byte.\n",
    "    '''\n",
    "    return bin_to_pol(hex_to_bin(hexadecimal))"
   ]
  },
  {
   "cell_type": "markdown",
   "metadata": {},
   "source": [
    "Definimos la siguiente matriz que se usa en la transformación afín en el cálculo de la S-Box."
   ]
  },
  {
   "cell_type": "code",
   "execution_count": 3,
   "metadata": {},
   "outputs": [
    {
     "data": {
      "text/plain": [
       "[1 0 0 0 1 1 1 1]\n",
       "[1 1 0 0 0 1 1 1]\n",
       "[1 1 1 0 0 0 1 1]\n",
       "[1 1 1 1 0 0 0 1]\n",
       "[1 1 1 1 1 0 0 0]\n",
       "[0 1 1 1 1 1 0 0]\n",
       "[0 0 1 1 1 1 1 0]\n",
       "[0 0 0 1 1 1 1 1]"
      ]
     },
     "execution_count": 3,
     "metadata": {},
     "output_type": "execute_result"
    }
   ],
   "source": [
    "M = matrix(Integers(2),8,[\n",
    "        1,0,0,0,1,1,1,1,\n",
    "        1,1,0,0,0,1,1,1,\n",
    "        1,1,1,0,0,0,1,1,\n",
    "        1,1,1,1,0,0,0,1,\n",
    "        1,1,1,1,1,0,0,0,\n",
    "        0,1,1,1,1,1,0,0,\n",
    "        0,0,1,1,1,1,1,0,\n",
    "        0,0,0,1,1,1,1,1,\n",
    "    ])\n",
    "M"
   ]
  },
  {
   "cell_type": "markdown",
   "metadata": {},
   "source": [
    "Calculamos la inversa de dicha matriz, necesaria para calcular la transformación afín inversa."
   ]
  },
  {
   "cell_type": "code",
   "execution_count": 4,
   "metadata": {
    "scrolled": true
   },
   "outputs": [
    {
     "data": {
      "text/plain": [
       "[0 0 1 0 0 1 0 1]\n",
       "[1 0 0 1 0 0 1 0]\n",
       "[0 1 0 0 1 0 0 1]\n",
       "[1 0 1 0 0 1 0 0]\n",
       "[0 1 0 1 0 0 1 0]\n",
       "[0 0 1 0 1 0 0 1]\n",
       "[1 0 0 1 0 1 0 0]\n",
       "[0 1 0 0 1 0 1 0]"
      ]
     },
     "execution_count": 4,
     "metadata": {},
     "output_type": "execute_result"
    }
   ],
   "source": [
    "# Inversa de la matriz M\n",
    "M_inv = M**(-1)\n",
    "M_inv"
   ]
  },
  {
   "cell_type": "markdown",
   "metadata": {},
   "source": [
    "De esta forma, podemos definir siguiente función, `sbox(x,y)`, que dado un byte `xy` sea capaz de aportar la entrada correspondiente a la fila `x` y la columna `y` en la tabla de la Figura 4.9 de los apuntes."
   ]
  },
  {
   "cell_type": "markdown",
   "metadata": {},
   "source": [
    "Para ello, se ha calculado la inversa de la transformación afín (4.3) seguida de la toma del inverso multiplicativo en $GF(2^8)$."
   ]
  },
  {
   "cell_type": "code",
   "execution_count": 8,
   "metadata": {},
   "outputs": [
    {
     "data": {
      "text/plain": [
       "'50'"
      ]
     },
     "execution_count": 8,
     "metadata": {},
     "output_type": "execute_result"
    }
   ],
   "source": [
    "def sbox(x,y):\n",
    "    xy = x + y\n",
    "    byte_bin = hex_to_bin(xy) # Polinomio correspondiente de xy\n",
    "    c = vector(Integers(2), [1,1,0,0,0,1,1,0]) # Coeficientes del byte {63}\n",
    "    b = vector(Integers(2), [int(c) for c in byte_bin[::-1]]) # Vector que representa al byte de entrada\n",
    "\n",
    "    res_transf = M_inv*(b-c) # Inversa de la transformacion afin\n",
    "    \n",
    "    # Inverso en GF(2^8)\n",
    "    if (res_transf == 0):\n",
    "        res = '00'\n",
    "    else:\n",
    "        res_transf_pol = bin_to_pol(''.join([str(c) for c in res_transf[::-1]]))\n",
    "        res_pol = R(res_transf_pol**(-1))\n",
    "        res = pol_to_hex(res_pol)\n",
    "        \n",
    "    return res\n",
    "\n",
    "x = '5'\n",
    "y = '3'\n",
    "sbox(x,y)"
   ]
  },
  {
   "cell_type": "markdown",
   "metadata": {},
   "source": [
    "Luego la posición 53 en la tabla 4.9 viene ocupada por `50`."
   ]
  },
  {
   "cell_type": "markdown",
   "metadata": {},
   "source": [
    "## Apartado b"
   ]
  },
  {
   "cell_type": "markdown",
   "metadata": {},
   "source": [
    "### Matriz de `S-Box inversa`"
   ]
  },
  {
   "cell_type": "markdown",
   "metadata": {},
   "source": [
    "Obtenemos la matriz que corresponde a S-box inversa, que contiene los valores de sustitución para el byte `xy` (en formato hexadecimal)."
   ]
  },
  {
   "cell_type": "code",
   "execution_count": null,
   "metadata": {
    "scrolled": false
   },
   "outputs": [],
   "source": [
    "hex_digits = [hex(i)[2:] for i in range(16)]\n",
    "s_box = []\n",
    "\n",
    "for x in hex_digits:\n",
    "    row = []\n",
    "    \n",
    "    for y in hex_digits:\n",
    "        row.append(sbox(x,y)) # Calcular la entrada en S-box inversa del byte xy\n",
    "    \n",
    "    s_box.append(row)\n",
    "\n",
    "# Imprimir por pantalla la matriz S-Box inversa    \n",
    "for row in s_box:\n",
    "    print(row)"
   ]
  }
 ],
 "metadata": {
  "kernelspec": {
   "display_name": "SageMath 9.3",
   "language": "sage",
   "name": "sagemath"
  },
  "language_info": {
   "codemirror_mode": {
    "name": "ipython",
    "version": 3
   },
   "file_extension": ".py",
   "mimetype": "text/x-python",
   "name": "python",
   "nbconvert_exporter": "python",
   "pygments_lexer": "ipython3",
   "version": "3.9.2"
  }
 },
 "nbformat": 4,
 "nbformat_minor": 2
}
