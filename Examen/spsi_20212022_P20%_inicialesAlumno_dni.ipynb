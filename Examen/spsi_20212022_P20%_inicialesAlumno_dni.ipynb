{
 "cells": [
  {
   "cell_type": "markdown",
   "metadata": {},
   "source": [
    "# Examen SPSI 2021 - 2022\n",
    "\n",
    "**Autores**: \n",
    "\n",
    "- Ana Buendía Ruiz-Azuaga\n",
    "- Andrés Millán Muñoz\n",
    "- Paula Villanueva Núñez\n",
    "- Juan Antonio Villegas Recio"
   ]
  },
  {
   "cell_type": "markdown",
   "metadata": {},
   "source": [
    "## 📋 Ejercicio 1\n",
    "\n",
    "> **A lo largo del curso hemos tenido ocasión de comprobar la importancia de los coeficientes de Bezout, calculados mediante el algoritmo de Euclides extendido. Nosotros hemos implementado dicho algoritmo para el caso de números enteros en la formulación binaria pero por desgracia este algoritmo, en su pureza, ofrece unos coeficientes de Bezout muy elevados en valor absoluto y esto puede ser un inconveniente al quererlos usar como exponente de una potencia. Implemente en (riguroso código) Python una función que haga que esos coeficientes de Bezout ofrecidos por su algoritmo binario tengan el valor “pequeño” que daría el código clásico que acompañamos a esta prueba (ficheroAlgoritmoExtEuclides.ipynb). La implementación debe entregarla incluida en un cuaderno de Jupyter, o sea, en formato.ipynb**"
   ]
  },
  {
   "cell_type": "markdown",
   "metadata": {},
   "source": [
    "Se desactiva el parser para que se ejecute igual que en python.\n",
    "\n",
    "La función `bxeuc` es la misma función que se entregó en la tarea durante el curso."
   ]
  },
  {
   "cell_type": "code",
   "execution_count": null,
   "metadata": {},
   "outputs": [],
   "source": [
    "preparser(False)"
   ]
  },
  {
   "cell_type": "code",
   "execution_count": null,
   "metadata": {},
   "outputs": [],
   "source": [
    "# not(m & 1) = ~m&1 -> Comprueba si el número es par. Devuelve true si es par\n",
    "\n",
    "# Se ha usado el mismo código que en la tarea\n",
    "\n",
    "\n",
    "def bxeuc(m,n):\n",
    "    '''\n",
    "    Algoritmo extendido de euclides.\n",
    "    Parametros: m,n dos enteros\n",
    "    Devuelve: mcd y los coeficientes de Bezout\n",
    "    '''\n",
    "    shift = 0\n",
    "    \n",
    "    if m == 0:\n",
    "        return n, 0, 1\n",
    "    if n == 0:\n",
    "        return m, 1, 0\n",
    "    \n",
    "    # Gestionamos numeros negativos\n",
    "    signo_m = 1\n",
    "    signo_n = 1\n",
    "    \n",
    "    if m < 0:\n",
    "        m = -m\n",
    "        signo_m = -1\n",
    "    if n < 0:\n",
    "        n = -n\n",
    "        signo_n = -1\n",
    "    \n",
    "    \n",
    "    while ~m&1 and ~n&1:\n",
    "        m >>= 1\n",
    "        n >>= 1\n",
    "        \n",
    "        shift += 1 \n",
    "        \n",
    "    # m0 y n0 son m y n quitando el factor comun 2, por ejemplo 4,2 pasa a 2,1\n",
    "    m0 = m\n",
    "    n0 = n\n",
    "    \n",
    "    sm = 1\n",
    "    sn = 0\n",
    "    \n",
    "    tm = 0\n",
    "    tn = 1\n",
    "    \n",
    "    # Se mantienen invariantes m = sm*m+sn*n, n=tm*m+tn*n\n",
    "    \n",
    "    \n",
    "    while ~m&1: # Si m es par\n",
    "        if not (~sm&1 and ~sn&1 ): # Si sm o sn alguno no es par\n",
    "            # garantizamos que sm y sn sean pares\n",
    "            sm = sm - n0\n",
    "            sn = sn + m0\n",
    "            \n",
    "        # Quitamos el factor comun 2 de m, sm y sn, luego la identidad m = sm*m+sn*n se mantiene\n",
    "        m >>= 1\n",
    "        sm >>= 1\n",
    "        sn >>= 1\n",
    "    \n",
    "    while n != 0:\n",
    "        while ~n&1: # SI n par\n",
    "            if not (~tm&1 and ~tn&1): # Si tm o tn alguno no es par\n",
    "                # Aseguramos que tm y tn son pares\n",
    "                tm = tm - n0\n",
    "                tn = tn + m0\n",
    "                \n",
    "            # Eliminamos el factor comun 2 de n, tm y tn, luego la identidad n=tm*m+tn*n se mantiene\n",
    "            n >>= 1\n",
    "            tm >>= 1\n",
    "            tn >>= 1\n",
    "        \n",
    "        # Si m>n intercambiamos las variables\n",
    "        if m > n: \n",
    "            m, n, sm, tm, sn, tn = n, m, tm, sm, tn, sn\n",
    "            \n",
    "        \n",
    "        # Vamos quitando tantas veces m a n\n",
    "        n = n - m\n",
    "        tm = tm - sm\n",
    "        tn = tn - sn\n",
    "        \n",
    "    g = m << shift\n",
    "    u = signo_m*sm\n",
    "    v = signo_n*sn\n",
    "\n",
    "    return g, u, v"
   ]
  },
  {
   "cell_type": "markdown",
   "metadata": {},
   "source": [
    "Para obtener los coeficientes de Bezout se usa la función `bxeuc` y para minimizar su valor absoluto usaremos módulos basándonos en:\n",
    "\n",
    "Sean $(u,v)$ y $(u',v')$ dos soluciones distintas a de la identidad $mu+nv=g$. Entonces restando tenemos que $$m(u-u')+n(v-v')=0$$\n",
    "\n",
    "Por tanto, $$m(u-u')=n(v'-v)$$\n",
    "\n",
    "Ahora consideramos $m'=m/g$ y $n'=n/g$, que son coprimos. Reescribimos la expresión obtenida anteriormente como:\n",
    "$$m'g(u-u')=n'g(v'-v)$$\n",
    "\n",
    "Luego $m'|(v'-v)$ y $n'|(u-u')$, o equivalentemente $u'=u-n'k$ y $v'=v+m'k$ para algún $k$ entero.\n",
    "\n",
    "Entonces $u'\\equiv u \\mod n'$ y $v'\\equiv v \\mod m'$."
   ]
  },
  {
   "cell_type": "code",
   "execution_count": null,
   "metadata": {},
   "outputs": [],
   "source": [
    "def bxeuc_min_coefs(m,n):  \n",
    "    g, u, v = bxeuc(m, n)\n",
    "\n",
    "    \n",
    "    if (u == 1 and v == 0) or (u == 0 and v == 1):\n",
    "        return g,u, v\n",
    "    \n",
    "    a, b = m/g, n/g\n",
    "\n",
    "    u, v = u % b, v % a\n",
    "    \n",
    "    if abs(u-b) < abs(u):\n",
    "        u = u-b\n",
    "    \n",
    "    if abs(v-a) < abs(v):\n",
    "        v = v-a\n",
    "    \n",
    "    return g, u, v"
   ]
  },
  {
   "cell_type": "code",
   "execution_count": null,
   "metadata": {},
   "outputs": [],
   "source": [
    "m = 1426668559730\n",
    "n = 810653094756\n",
    "\n",
    "g, u, v = bxeuc_min_coefs(m, n)\n",
    "\n",
    "print(\"Máximo común divisor obtenido por el algoritmo: {}\".format(g))\n",
    "print(\"Resultado de la identidad usando los coeficientes {}\".format(int(u)*m+int(v)*n))\n",
    "print(\"Coeficientes: {}, {}\".format(u,v))\n",
    "\n",
    "print(g == int(u)*m+int(v)*n)"
   ]
  },
  {
   "cell_type": "code",
   "execution_count": null,
   "metadata": {},
   "outputs": [],
   "source": [
    "lsign = lambda x: x and (1,-1)[x<0]\n",
    "\n",
    "def xeuclid(a,b):\n",
    "    m, n = int(a), int(b)\n",
    "    u0, u1 = 1, 0\n",
    "    v0, v1 = 0, 1\n",
    "    \n",
    "    while n:\n",
    "        q = m // n\n",
    "        m, n = n, m % n\n",
    "        u0, u1 = u1, u0 - q * u1\n",
    "        v0, v1 = v1, v0 - q * v1\n",
    "    sg = lsign(m)\n",
    "\n",
    "    return m * sg, u0 * sg, v0 * sg"
   ]
  },
  {
   "cell_type": "code",
   "execution_count": null,
   "metadata": {},
   "outputs": [],
   "source": [
    "# Comprobación de que nos dan los coeficientes originales:\n",
    "\n",
    "def verificar(m, n):\n",
    "    g, u, v = bxeuc_min_coefs(m, n)\n",
    "    g2, u2, v2 = xeuclid(m, n)\n",
    "    \n",
    "\n",
    "    return g == int(u)*m+int(v)*n and u == u2 and v == v2"
   ]
  },
  {
   "cell_type": "code",
   "execution_count": null,
   "metadata": {},
   "outputs": [],
   "source": [
    "verificar(m,   n) and \\\n",
    "verificar(n,   m) and \\\n",
    "verificar(-m,  n) and \\\n",
    "verificar(m,  -n) and \\\n",
    "verificar(-m, -n) and \\\n",
    "verificar(-n, -m)"
   ]
  },
  {
   "cell_type": "code",
   "execution_count": null,
   "metadata": {},
   "outputs": [],
   "source": [
    "preparser(True)"
   ]
  },
  {
   "cell_type": "markdown",
   "metadata": {},
   "source": [
    "https://math.stackexchange.com/questions/1724468/bezout-coefficients-produced-by-extended-euclidean-algorithm-for-a-and-b\n",
    "https://math.stackexchange.com/questions/237372/finding-positive-b%C3%A9zout-coefficients"
   ]
  },
  {
   "cell_type": "markdown",
   "metadata": {},
   "source": [
    "## 📋 Ejercicio 2"
   ]
  },
  {
   "cell_type": "markdown",
   "metadata": {},
   "source": [
    "## Apartado a"
   ]
  },
  {
   "cell_type": "markdown",
   "metadata": {},
   "source": [
    "> **Implemente razonadamente una función, digamos sbox(x,y), que dado un byte xy sea capaz de aportar la entrada correspondiente a la fila x y la columna y en la tabla de la Figura 4.9 de los apuntes (pag. 91).**"
   ]
  },
  {
   "cell_type": "markdown",
   "metadata": {},
   "source": [
    "A continuación se define el cuerpo $R = \\mathbb{Z}_2 [x] / (x^8 + x^4 + x^3 + x + 1)\\cong GF(2^8)$, como indican las especificaciones del algoritmo."
   ]
  },
  {
   "cell_type": "code",
   "execution_count": null,
   "metadata": {},
   "outputs": [],
   "source": [
    "R = PolynomialRing(GF(2), 'x').quotient('x^8 + x^4 + x^3 + x + 1', 'x')\n",
    "R"
   ]
  },
  {
   "cell_type": "markdown",
   "metadata": {},
   "source": [
    "### Transformaciones entre las distintas formas de representar un byte"
   ]
  },
  {
   "cell_type": "code",
   "execution_count": null,
   "metadata": {},
   "outputs": [],
   "source": [
    "# Binario a hexadecimal\n",
    "def bin_to_hex(binary):\n",
    "    '''\n",
    "    Argumentos:\n",
    "        - binary: Cadena binaria de longitud 8 que representa un byte en binario\n",
    "    Salidas:\n",
    "        - Cadena en hexadecimal de longitud 2 que representa un byte en hexadecimal\n",
    "    '''\n",
    "    return hex(int(binary,2))[2:].zfill(2)\n",
    "\n",
    "# Hexadecimal a binario\n",
    "def hex_to_bin(hexadecimal):\n",
    "    '''\n",
    "    Argumentos:\n",
    "        - hexadecimal: Cadena hexadecimal de longitud 2 que representa un byte en hexadecimal\n",
    "    Salidas:\n",
    "        - Cadena en binario de longitud 8 que representa un byte en binario\n",
    "    '''\n",
    "    return bin(int(hexadecimal, 16))[2:].zfill(8)\n",
    "\n",
    "# Polinomio correspondiente a un binario\n",
    "def bin_to_pol(binary):\n",
    "    '''\n",
    "    Argumentos:\n",
    "        - binary: Cadena binaria de longitud 8 que representa un byte en binario\n",
    "    Salidas:\n",
    "        - Polinomio de GF(2^8) que representa el byte.\n",
    "    '''\n",
    "    binary_list_int = [int(c) for c in binary[::-1]]\n",
    "    return R(binary_list_int)\n",
    "\n",
    "# Binario correspondiente a un polinomio\n",
    "def pol_to_bin(pol):\n",
    "    '''\n",
    "    Argumentos:\n",
    "        - pol: Polinomio de GF(2^8) que representa el byte.\n",
    "    Salidas:\n",
    "        - Cadena en binario de longitud 8 que representa un byte en binario\n",
    "    '''\n",
    "    return ''.join([str(c) for c in pol.list()[::-1]])\n",
    "\n",
    "# Hexadecimal correspondiente a un polinomio\n",
    "def pol_to_hex(pol):\n",
    "    '''\n",
    "    Argumentos:\n",
    "        - pol: Polinomio de GF(2^8) que representa el byte.\n",
    "    Salidas:\n",
    "        - Cadena en hexadecimal de longitud 2 que representa un byte en hexadecimal\n",
    "    '''\n",
    "    return bin_to_hex(pol_to_bin(pol))\n",
    "\n",
    "# Polinomio correspondiente a un hexadecimal\n",
    "def hex_to_pol(hexadecimal):\n",
    "    '''\n",
    "    Argumentos:\n",
    "        - hexadecimal: Cadena hexadecimal de longitud 2 que representa un byte en hexadecimal\n",
    "    Salidas:\n",
    "        - Polinomio de GF(2^8) que representa el byte.\n",
    "    '''\n",
    "    return bin_to_pol(hex_to_bin(hexadecimal))"
   ]
  },
  {
   "cell_type": "markdown",
   "metadata": {},
   "source": [
    "Definimos la siguiente matriz que se usa en la transformación afín en el cálculo de la S-Box."
   ]
  },
  {
   "cell_type": "code",
   "execution_count": null,
   "metadata": {},
   "outputs": [],
   "source": [
    "M = matrix(Integers(2),8,[\n",
    "        1,0,0,0,1,1,1,1,\n",
    "        1,1,0,0,0,1,1,1,\n",
    "        1,1,1,0,0,0,1,1,\n",
    "        1,1,1,1,0,0,0,1,\n",
    "        1,1,1,1,1,0,0,0,\n",
    "        0,1,1,1,1,1,0,0,\n",
    "        0,0,1,1,1,1,1,0,\n",
    "        0,0,0,1,1,1,1,1,\n",
    "    ])\n",
    "M"
   ]
  },
  {
   "cell_type": "markdown",
   "metadata": {},
   "source": [
    "Calculamos la inversa de dicha matriz, necesaria para calcular la transformación afín inversa."
   ]
  },
  {
   "cell_type": "code",
   "execution_count": null,
   "metadata": {
    "scrolled": true
   },
   "outputs": [],
   "source": [
    "# Inversa de la matriz M\n",
    "M_inv = M**(-1)\n",
    "M_inv"
   ]
  },
  {
   "cell_type": "markdown",
   "metadata": {},
   "source": [
    "De esta forma, podemos definir siguiente función, `sbox(x,y)`, que dado un byte `xy` sea capaz de aportar la entrada correspondiente a la fila `x` y la columna `y` en la tabla de la Figura 4.9 de los apuntes."
   ]
  },
  {
   "cell_type": "markdown",
   "metadata": {},
   "source": [
    "Para ello, se ha calculado la inversa de la transformación afín (4.3) seguida de la toma del inverso multiplicativo en $GF(2^8)$."
   ]
  },
  {
   "cell_type": "code",
   "execution_count": null,
   "metadata": {},
   "outputs": [],
   "source": [
    "def sbox(x,y):\n",
    "    xy = x + y\n",
    "    byte_bin = hex_to_bin(xy) # Polinomio correspondiente de xy\n",
    "    c = vector(Integers(2), [1,1,0,0,0,1,1,0]) # Coeficientes del byte {63}\n",
    "    b = vector(Integers(2), [int(c) for c in byte_bin[::-1]]) # Vector que representa al byte de entrada\n",
    "\n",
    "    res_transf = M_inv*(b-c) # Inversa de la transformacion afin\n",
    "    \n",
    "    # Inverso en GF(2^8)\n",
    "    if (res_transf == 0):\n",
    "        res = '00'\n",
    "    else:\n",
    "        res_transf_pol = bin_to_pol(''.join([str(c) for c in res_transf[::-1]]))\n",
    "        res_pol = R(res_transf_pol**(-1))\n",
    "        res = pol_to_hex(res_pol)\n",
    "        \n",
    "    return res\n",
    "\n",
    "x = '5'\n",
    "y = '3'\n",
    "sbox(x,y)"
   ]
  },
  {
   "cell_type": "markdown",
   "metadata": {},
   "source": [
    "Luego la posición 53 en la tabla 4.9 viene ocupada por `50`."
   ]
  },
  {
   "cell_type": "markdown",
   "metadata": {},
   "source": [
    "## Apartado b"
   ]
  },
  {
   "cell_type": "markdown",
   "metadata": {},
   "source": [
    "> **Utilice el código de la pregunta anterior para construir una matriz que corresponda exactamente con el contenido de la tabla de la Figura 4.9. (Entregue el ejercicio en al menos un fichero .ipynb)**"
   ]
  },
  {
   "cell_type": "markdown",
   "metadata": {},
   "source": [
    "### Matriz de `S-Box inversa`"
   ]
  },
  {
   "cell_type": "markdown",
   "metadata": {},
   "source": [
    "Obtenemos la matriz que corresponde a S-box inversa, que contiene los valores de sustitución para el byte `xy` (en formato hexadecimal)."
   ]
  },
  {
   "cell_type": "code",
   "execution_count": null,
   "metadata": {},
   "outputs": [],
   "source": [
    "hex_digits = [hex(i)[2:] for i in range(16)]\n",
    "s_box = []\n",
    "\n",
    "for x in hex_digits:\n",
    "    row = []\n",
    "    \n",
    "    for y in hex_digits:\n",
    "        row.append(sbox(x,y)) # Calcular la entrada en S-box inversa del byte xy\n",
    "    \n",
    "    s_box.append(row)\n",
    "\n",
    "# Imprimir por pantalla la matriz S-Box inversa    \n",
    "for row in s_box:\n",
    "    print(row)"
   ]
  },
  {
   "cell_type": "markdown",
   "metadata": {},
   "source": [
    "## 📋 Ejercicio 3\n",
    "\n",
    "> **Diseñe razonadamente el entorno de un ejemplo realista para el intercambio de una clave según el sistema de Diffie-Hellman y proceda al intercambio de una de ellas. Para llevar a cabo este ejemplo puede usar sagemath y openssl, pero el ejemplo que construya debe ser distinto en los datos a cualquiera que figure en los apuntes (p.e. Ejemplo 5.5.3 de la pág. 122).**"
   ]
  },
  {
   "cell_type": "markdown",
   "metadata": {},
   "source": [
    "En una conexión SSH se establecen dos etapas: La primera es acordar una clave de cifrado para proteger la comunicación futura y la segunda es autenticar al usuario y comprobar si se le debe dar acceso al servidor. El esquema Diffie-Hellman es utilizado en la primera de las fases, donde ambas partes negocian una clave de sesión compartida, pero secreta. Al utilizar Diffie-Hellman, cada parte puede combinar sus propios datos privados con datos públicos del otro sistema para así llegar a dicha clave compartida. \n",
    "\n",
    "Esta clave de sesión se utiliza para cifrar toda la sesión. No combiene confundir las claves privadas utilizadas en este paso con las claves SSH utilizadas para autenticar un cliente en el servidor, ya que son conceptos distintos y están completamente separados.\n",
    "\n",
    "El procedimiento seguido es el siguiente. Por simplicidad llamaremos $A$ y $B$ a las dos partes."
   ]
  },
  {
   "cell_type": "markdown",
   "metadata": {},
   "source": [
    "Utilizamos `openssl` para generar un primo seguro suficientemente grande, por ejemplo, de 64 bits:"
   ]
  },
  {
   "cell_type": "markdown",
   "metadata": {},
   "source": [
    "```bash\n",
    "$ openssl prime -generate -safe -bits 64\n",
    "17885555072688303479\n",
    "```"
   ]
  },
  {
   "cell_type": "markdown",
   "metadata": {},
   "source": [
    "A partir de este número primo que llamaremos $n$, elegimos $g$, otro número primo que es además un elemento primitivo de $GF(n)$:"
   ]
  },
  {
   "cell_type": "code",
   "execution_count": null,
   "metadata": {},
   "outputs": [],
   "source": [
    "n = 17885555072688303479\n",
    "g = GF(n).primitive_element()"
   ]
  },
  {
   "cell_type": "markdown",
   "metadata": {},
   "source": [
    "Al ser $g$ un elemento primitivo de $GF(n)$, tenemos asegurado que $1<g<n$. La pareja $(n,g)$ no tiene por qué ser secreta, de hecho puede ser compartida por más usuarios."
   ]
  },
  {
   "cell_type": "code",
   "execution_count": null,
   "metadata": {},
   "outputs": [],
   "source": [
    "print(f\"(n,g) = {(n,g)}\")"
   ]
  },
  {
   "cell_type": "markdown",
   "metadata": {},
   "source": [
    "### A elige su clave secreta y calcula X\n",
    "A continuación A elige aleatoriamente un número elevado $x$ y calcula el número $X=g^x \\mod n$, el cual será enviado a B."
   ]
  },
  {
   "cell_type": "code",
   "execution_count": null,
   "metadata": {},
   "outputs": [],
   "source": [
    "# A\n",
    "\n",
    "x = randint(0,2**20)\n",
    "X = g**x % n\n",
    "\n",
    "print(f\"La clave secreta de A es x = {x}\")\n",
    "print(f\"A le enviará a B el número X = {X}\")"
   ]
  },
  {
   "cell_type": "markdown",
   "metadata": {},
   "source": [
    "### B elige su clave secreta y calcula Y\n",
    "Del mismo modo, B elige aleatoriamente un número elevado $y$ y calcula el número $Y=g^y \\mod n$, el cual será enviado a A."
   ]
  },
  {
   "cell_type": "code",
   "execution_count": null,
   "metadata": {},
   "outputs": [],
   "source": [
    "# B\n",
    "\n",
    "y = randint(0,2**20)\n",
    "Y = g**y % n\n",
    "\n",
    "print(f\"La clave secreta de B es y = {y}\")\n",
    "print(f\"B le enviará a A el número Y = {Y}\")"
   ]
  },
  {
   "cell_type": "markdown",
   "metadata": {},
   "source": [
    "### Intercambio\n",
    "A y B se intercambian $X$ e $Y$, manteniendo secretos los exponentes $x$ e $y$. A recibe $Y$ y calcula $k_1$:"
   ]
  },
  {
   "cell_type": "code",
   "execution_count": null,
   "metadata": {},
   "outputs": [],
   "source": [
    "# A\n",
    "\n",
    "k1 = Y**x % n\n",
    "\n",
    "print(f\"Clave calculada por A: {k1}\")"
   ]
  },
  {
   "cell_type": "markdown",
   "metadata": {},
   "source": [
    "B recibe $X$ y calcula $k_2$"
   ]
  },
  {
   "cell_type": "code",
   "execution_count": null,
   "metadata": {},
   "outputs": [],
   "source": [
    "# B\n",
    "\n",
    "k2 = X**y % n\n",
    "\n",
    "print(\"Clave calculada por B: {k2}\")"
   ]
  },
  {
   "cell_type": "markdown",
   "metadata": {},
   "source": [
    "Comprobamos que en efecto $k_1$ y $k_2$ coinciden, siendo calculadas independientemente y sin revelar las claves secretas $x$ e $y$. Este número $k_1=k_2$ es la clave secreta compartida entre A y B, que estas utilizarán posteriormente para cifrar la comunicación en SSH."
   ]
  },
  {
   "cell_type": "code",
   "execution_count": null,
   "metadata": {},
   "outputs": [],
   "source": [
    "k1 == k2"
   ]
  },
  {
   "cell_type": "markdown",
   "metadata": {},
   "source": [
    "Este proceso permite a cada parte participar igualmente en la generación del secreto compartido, lo que no permite que un extremo controle el secreto. También cumple la tarea de generar un secreto compartido idéntico sin tener que enviar esa información a través de canales inseguros. La clave generada es simétrica, lo que significa que la misma clave utilizada para cifrar un mensaje se puede utilizar para descifrarlo en el otro lado. El propósito de esto es envolver toda la comunicación adicional en un túnel encriptado que no pueda ser descifrado por personas externas."
   ]
  },
  {
   "cell_type": "markdown",
   "metadata": {},
   "source": [
    "## 📋 Ejercicio 4\n",
    "\n",
    "> **Escenifique compartir el secreto de valor 113132 entre 50 partícipes, requiriéndose el acuerdo de 42 de ellos para explicitar dicho secreto. Use en este ejercicio el esquema de Shamir de intercambio de secretos, pudiendo el alumno servirse de Sagemath implementando su propio software**"
   ]
  },
  {
   "cell_type": "markdown",
   "metadata": {},
   "source": [
    "Como se nos pide, vamos a ejemplificar el esquema de Shamir. \n",
    "\n",
    "Para empezar, escribamos nuestras hipótesis, usando la nomenclatura de la teoría:"
   ]
  },
  {
   "cell_type": "code",
   "execution_count": null,
   "metadata": {},
   "outputs": [],
   "source": [
    "# Secreto\n",
    "s = 113132 \n",
    "\n",
    "# Número de participantes\n",
    "n = 50\n",
    "\n",
    "# Umbral de participantes para recuperar el secreto\n",
    "t = 42"
   ]
  },
  {
   "cell_type": "markdown",
   "metadata": {},
   "source": [
    "Para operar, debemos realizar los siguientes pasos:\n",
    "\n",
    "1. Se elige un número primo $p$ tal que $p > máx\\{n, s\\}$\n",
    "2. Se eligen $t - 1$ elementos de $Z_p$, $a_1, \\dotsc, a_{t-1}$ de forma que $a_{t-1} \\ne 0$\n",
    "3. Consideramos el polinomio $p(x) = s + a_1x + \\dotsc + a_{t-1}x^{t-1}$.\n",
    "4. Son escogidos $x_1, \\dotsc, x_n \\in Z_p^*$, y se calcula para todo $1 \\le i \\le n$ el valor $y_i = p(x_i)$\n",
    "5. El partícipe $i, 1 \\le i \\le n$, recibe la parte del secreto $<x_i, y_i>$ y la mantendrá como par secreto\n",
    "\n",
    "Sin más dilación, vamos a ello:"
   ]
  },
  {
   "cell_type": "code",
   "execution_count": null,
   "metadata": {},
   "outputs": [],
   "source": [
    "# ──────────────────────────────────────────────────────────────────────── 1 ─────\n",
    "\n",
    "p = random_prime(2**64)\n",
    "\n",
    "while p <= max(n, s):\n",
    "    p = random_prime(2**64)\n",
    "\n",
    "print(f'El primo generado es p = {p}. \\n\\t -> ¿Es mayor que {n} y {s}? {p > max(n, s)}\\n')\n",
    "\n",
    "\n",
    "# Definimos los anillos necesarios para operar\n",
    "Zp = GF(p)\n",
    "K.<x> = PolynomialRing(Zp)\n",
    "\n",
    "\n",
    "\n",
    "# ──────────────────────────────────────────────────────────────────────── 2 ─────\n",
    "\n",
    "A = [Zp.random_element() for i in range(0, t-1)]\n",
    "print(f'Para A, hemos escogido {len(A)} = t-1 = {t-1} elementos de Zp\\n')\n",
    "\n",
    "\n",
    "# Nos aseguramos que A[t-2] = a_{t-1} != 0\n",
    "while (A[t-2] == 0):\n",
    "    A[t-2] = Zp.random_element()\n",
    "    \n",
    "print(f'Se tiene además que A[t-2] = a_(t-1) = {A[-1]} != 0\\n')\n",
    "\n",
    "\n",
    "\n",
    "# ──────────────────────────────────────────────────────────────────────── 3 ─────\n",
    "\n",
    "p = K(A)*x + s\n",
    "print(f'Escogemos el polinomio \\n{p}\\n\\n')\n",
    "\n",
    "\n",
    "\n",
    "# ──────────────────────────────────────────────────────────────────────── 4 ─────\n",
    "\n",
    "X = [Zp.random_element() for i in range(0, n)]\n",
    "\n",
    "# Limpiamos los posibles 0 de X\n",
    "while True:\n",
    "    try:\n",
    "        i = X.index(0)\n",
    "        X[i] = Zp.random_element()\n",
    "    except ValueError:\n",
    "        # Si no hay 0s, paramos\n",
    "        break\n",
    "    \n",
    "Y = [p(x) for x in X]\n",
    "\n",
    "\n",
    "\n",
    "# ──────────────────────────────────────────────────────────────────────── 5 ─────\n",
    "\n",
    "pares_secretos = [ (x,y) for x, y in zip(X,Y) ]\n",
    "\n",
    "print(f'Hemos obtenido {len(pares_secretos)} pares secretos')"
   ]
  },
  {
   "cell_type": "markdown",
   "metadata": {},
   "source": [
    "Mostremos ahora la recuperación del secreto, escogemos $t$ participantes al azar:"
   ]
  },
  {
   "cell_type": "code",
   "execution_count": null,
   "metadata": {},
   "outputs": [],
   "source": [
    "import random \n",
    "random.shuffle(pares_secretos)\n",
    "\n",
    "estan_de_acuerdo = pares_secretos[:t]\n",
    "\n",
    "print(f'Estos son los pares de las {t} personas que están de acuerdo:')\n",
    "\n",
    "estan_de_acuerdo"
   ]
  },
  {
   "cell_type": "markdown",
   "metadata": {},
   "source": [
    "Y ahora, estas personas que están de acuerdo, llevan a cabo la interpolación de Lagrange. Podría usarse el de Newton, pero teniendo en cuenta que el de Lagrange se ejecuta lo suficientemente rápido, lo escogeremos para esta prueba. Sage proporciona una manera rápida de obtenerlo que nos resulta ventajosa.\n",
    "\n",
    "De esta forma, se descubre el secreto:"
   ]
  },
  {
   "cell_type": "code",
   "execution_count": null,
   "metadata": {},
   "outputs": [],
   "source": [
    "q = K.lagrange_polynomial(estan_de_acuerdo)\n",
    "q(0)"
   ]
  },
  {
   "cell_type": "markdown",
   "metadata": {},
   "source": [
    "¿Qué ocurriría si no se llegara a la cantidad de personas requerida? "
   ]
  },
  {
   "cell_type": "code",
   "execution_count": null,
   "metadata": {},
   "outputs": [],
   "source": [
    "random.shuffle(pares_secretos)\n",
    "\n",
    "frustrados = pares_secretos[:randint(1, t-1)]\n",
    "r = K.lagrange_polynomial(frustrados)\n",
    "r(0)"
   ]
  },
  {
   "cell_type": "markdown",
   "metadata": {},
   "source": [
    "No son capaces de conseguir el secreto."
   ]
  }
 ],
 "metadata": {
  "kernelspec": {
   "display_name": "SageMath 9.0",
   "language": "sage",
   "name": "sagemath"
  },
  "language_info": {
   "codemirror_mode": {
    "name": "ipython",
    "version": 3
   },
   "file_extension": ".py",
   "mimetype": "text/x-python",
   "name": "python",
   "nbconvert_exporter": "python",
   "pygments_lexer": "ipython3",
   "version": "3.8.10"
  }
 },
 "nbformat": 4,
 "nbformat_minor": 4
}
