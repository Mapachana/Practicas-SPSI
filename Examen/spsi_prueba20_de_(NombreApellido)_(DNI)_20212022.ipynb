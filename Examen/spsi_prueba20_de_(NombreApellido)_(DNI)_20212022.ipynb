{
 "cells": [
  {
   "cell_type": "markdown",
   "metadata": {},
   "source": [
    "# Examen SPSI 2021 - 2022\n",
    "\n",
    "**Autores**: \n",
    "\n",
    "- Ana Buendía Ruiz-Azuaga\n",
    "- Andrés Millán Muñoz\n",
    "- Paula Villanueva Núñez\n",
    "- Juan Antonio Villegas Recio"
   ]
  },
  {
   "cell_type": "markdown",
   "metadata": {},
   "source": [
    "## 📋 Ejercicio 3\n",
    "\n",
    "> **Diseñe razonadamente el entorno de un ejemplo realista para el intercambio de una clave según el sistema de Diffie-Hellman y proceda al intercambio de una de ellas. Para llevar a cabo este ejemplo puede usar sagemath y openssl, pero el ejemplo que construya debe ser distinto en los datos a cualquiera que figure en los apuntes (p.e. Ejemplo 5.5.3 de la pág. 122).**"
   ]
  },
  {
   "cell_type": "markdown",
   "metadata": {},
   "source": [
    "En una conexión SSH se establecen dos etapas: La primera es acordar una clave de cifrado para proteger la comunicación futura y la segunda es autenticar al usuario y comprobar si se le debe dar acceso al servidor. El esquema Diffie-Hellman es utilizado en la primera de las fases, donde ambas partes negocian una clave de sesión compartida, pero secreta. Al utilizar Diffie-Hellman, cada parte puede combinar sus propios datos privados con datos públicos del otro sistema para así llegar a dicha clave compartida. \n",
    "\n",
    "Esta clave de sesión se utiliza para cifrar toda la sesión. No combiene confundir las claves privadas utilizadas en este paso con las claves SSH utilizadas para autenticar un cliente en el servidor, ya que son conceptos distintos y están completamente separados.\n",
    "\n",
    "El procedimiento seguido es el siguiente. Por simplicidad llamaremos $A$ y $B$ a las dos partes."
   ]
  },
  {
   "cell_type": "markdown",
   "metadata": {},
   "source": [
    "Utilizamos `openssl` para generar un primo seguro suficientemente grande, por ejemplo, de 64 bits:"
   ]
  },
  {
   "cell_type": "markdown",
   "metadata": {},
   "source": [
    "```bash\n",
    "$ openssl prime -generate -safe -bits 64\n",
    "17885555072688303479\n",
    "```"
   ]
  },
  {
   "cell_type": "markdown",
   "metadata": {},
   "source": [
    "A partir de este número primo que llamaremos $n$, elegimos $g$, otro número primo que es además un elemento primitivo de $GF(n)$:"
   ]
  },
  {
   "cell_type": "code",
   "execution_count": null,
   "metadata": {},
   "outputs": [],
   "source": [
    "n = 17885555072688303479\n",
    "g = GF(n).primitive_element()"
   ]
  },
  {
   "cell_type": "markdown",
   "metadata": {},
   "source": [
    "Al ser $g$ un elemento primitivo de $GF(n)$, tenemos asegurado que $1<g<n$. La pareja $(n,g)$ no tiene por qué ser secreta, de hecho puede ser compartida por más usuarios."
   ]
  },
  {
   "cell_type": "code",
   "execution_count": null,
   "metadata": {},
   "outputs": [],
   "source": [
    "print(f\"(n,g) = {(n,g)}\")"
   ]
  },
  {
   "cell_type": "markdown",
   "metadata": {},
   "source": [
    "### A elige su clave secreta y calcula X\n",
    "A continuación A elige aleatoriamente un número elevado $x$ y calcula el número $X=g^x \\mod n$, el cual será enviado a B."
   ]
  },
  {
   "cell_type": "code",
   "execution_count": null,
   "metadata": {},
   "outputs": [],
   "source": [
    "# A\n",
    "\n",
    "x = randint(0,2**20)\n",
    "X = g**x % n\n",
    "\n",
    "print(f\"La clave secreta de A es x = {x}\")\n",
    "print(f\"A le enviará a B el número X = {X}\")"
   ]
  },
  {
   "cell_type": "markdown",
   "metadata": {},
   "source": [
    "### B elige su clave secreta y calcula Y\n",
    "Del mismo modo, B elige aleatoriamente un número elevado $y$ y calcula el número $Y=g^y \\mod n$, el cual será enviado a A."
   ]
  },
  {
   "cell_type": "code",
   "execution_count": null,
   "metadata": {},
   "outputs": [],
   "source": [
    "# B\n",
    "\n",
    "y = randint(0,2**20)\n",
    "Y = g**y % n\n",
    "\n",
    "print(f\"La clave secreta de B es y = {y}\")\n",
    "print(f\"B le enviará a A el número Y = {Y}\")"
   ]
  },
  {
   "cell_type": "markdown",
   "metadata": {},
   "source": [
    "### Intercambio\n",
    "A y B se intercambian $X$ e $Y$, manteniendo secretos los exponentes $x$ e $y$. A recibe $Y$ y calcula $k_1$:"
   ]
  },
  {
   "cell_type": "code",
   "execution_count": null,
   "metadata": {},
   "outputs": [],
   "source": [
    "# A\n",
    "\n",
    "k1 = Y**x % n\n",
    "\n",
    "print(f\"Clave calculada por A: {k1}\")"
   ]
  },
  {
   "cell_type": "markdown",
   "metadata": {},
   "source": [
    "B recibe $X$ y calcula $k_2$"
   ]
  },
  {
   "cell_type": "code",
   "execution_count": null,
   "metadata": {},
   "outputs": [],
   "source": [
    "# B\n",
    "\n",
    "k2 = X**y % n\n",
    "\n",
    "print(\"Clave calculada por B: {k2}\")"
   ]
  },
  {
   "cell_type": "markdown",
   "metadata": {},
   "source": [
    "Comprobamos que en efecto $k_1$ y $k_2$ coinciden, siendo calculadas independientemente y sin revelar las claves secretas $x$ e $y$. Este número $k_1=k_2$ es la clave secreta compartida entre A y B, que estas utilizarán posteriormente para cifrar la comunicación en SSH."
   ]
  },
  {
   "cell_type": "code",
   "execution_count": null,
   "metadata": {},
   "outputs": [],
   "source": [
    "k1 == k2"
   ]
  },
  {
   "cell_type": "markdown",
   "metadata": {},
   "source": [
    "Este proceso permite a cada parte participar igualmente en la generación del secreto compartido, lo que no permite que un extremo controle el secreto. También cumple la tarea de generar un secreto compartido idéntico sin tener que enviar esa información a través de canales inseguros. La clave generada es simétrica, lo que significa que la misma clave utilizada para cifrar un mensaje se puede utilizar para descifrarlo en el otro lado. El propósito de esto es envolver toda la comunicación adicional en un túnel encriptado que no pueda ser descifrado por personas externas."
   ]
  },
  {
   "cell_type": "markdown",
   "metadata": {},
   "source": [
    "## 📋 Ejercicio 4\n",
    "\n",
    "> **Escenifique compartir el secreto de valor 113132 entre 50 partícipes, requiriéndose el acuerdo de 42 de ellos para explicitar dicho secreto. Use en este ejercicio el esquema de Shamir de intercambio de secretos, pudiendo el alumno servirse de Sagemath implementando su propio software**"
   ]
  },
  {
   "cell_type": "markdown",
   "metadata": {},
   "source": [
    "Como se nos pide, vamos a ejemplificar el esquema de Shamir. \n",
    "\n",
    "Para empezar, escribamos nuestras hipótesis, usando la nomenclatura de la teoría:"
   ]
  },
  {
   "cell_type": "code",
   "execution_count": null,
   "metadata": {},
   "outputs": [],
   "source": [
    "# Secreto\n",
    "s = 113132 \n",
    "\n",
    "# Número de participantes\n",
    "n = 50\n",
    "\n",
    "# Umbral de participantes para recuperar el secreto\n",
    "t = 42"
   ]
  },
  {
   "cell_type": "markdown",
   "metadata": {},
   "source": [
    "Para operar, debemos realizar los siguientes pasos:\n",
    "\n",
    "1. Se elige un número primo $p$ tal que $p > máx\\{n, s\\}$\n",
    "2. Se eligen $t - 1$ elementos de $Z_p$, $a_1, \\dotsc, a_{t-1}$ de forma que $a_{t-1} \\ne 0$\n",
    "3. Consideramos el polinomio $p(x) = s + a_1x + \\dotsc + a_{t-1}x^{t-1}$.\n",
    "4. Son escogidos $x_1, \\dotsc, x_n \\in Z_p^*$, y se calcula para todo $1 \\le i \\le n$ el valor $y_i = p(x_i)$\n",
    "5. El partícipe $i, 1 \\le i \\le n$, recibe la parte del secreto $<x_i, y_i>$ y la mantendrá como par secreto\n",
    "\n",
    "Sin más dilación, vamos a ello:"
   ]
  },
  {
   "cell_type": "code",
   "execution_count": null,
   "metadata": {},
   "outputs": [],
   "source": [
    "# ──────────────────────────────────────────────────────────────────────── 1 ─────\n",
    "\n",
    "p = random_prime(2**64)\n",
    "\n",
    "while p <= max(n, s):\n",
    "    p = random_prime(2**64)\n",
    "\n",
    "print(f'El primo generado es p = {p}. \\n\\t -> ¿Es mayor que {n} y {s}? {p > max(n, s)}\\n')\n",
    "\n",
    "\n",
    "# Definimos los anillos necesarios para operar\n",
    "Zp = GF(p)\n",
    "K.<x> = PolynomialRing(Zp)\n",
    "\n",
    "\n",
    "\n",
    "# ──────────────────────────────────────────────────────────────────────── 2 ─────\n",
    "\n",
    "A = [Zp.random_element() for i in range(0, t-1)]\n",
    "print(f'Para A, hemos escogido {len(A)} = t-1 = {t-1} elementos de Zp\\n')\n",
    "\n",
    "\n",
    "# Nos aseguramos que A[t-2] = a_{t-1} != 0\n",
    "while (A[t-2] == 0):\n",
    "    A[t-2] = Zp.random_element()\n",
    "    \n",
    "print(f'Se tiene además que A[t-2] = a_(t-1) = {A[-1]} != 0\\n')\n",
    "\n",
    "\n",
    "\n",
    "# ──────────────────────────────────────────────────────────────────────── 3 ─────\n",
    "\n",
    "p = K(A)*x + s\n",
    "print(f'Escogemos el polinomio \\n{p}\\n\\n')\n",
    "\n",
    "\n",
    "\n",
    "# ──────────────────────────────────────────────────────────────────────── 4 ─────\n",
    "\n",
    "X = [Zp.random_element() for i in range(0, n)]\n",
    "\n",
    "# Limpiamos los posibles 0 de X\n",
    "while True:\n",
    "    try:\n",
    "        i = X.index(0)\n",
    "        X[i] = Zp.random_element()\n",
    "    except ValueError:\n",
    "        # Si no hay 0s, paramos\n",
    "        break\n",
    "    \n",
    "Y = [p(x) for x in X]\n",
    "\n",
    "\n",
    "\n",
    "# ──────────────────────────────────────────────────────────────────────── 5 ─────\n",
    "\n",
    "pares_secretos = [ (x,y) for x, y in zip(X,Y) ]\n",
    "\n",
    "print(f'Hemos obtenido {len(pares_secretos)} pares secretos')"
   ]
  },
  {
   "cell_type": "markdown",
   "metadata": {},
   "source": [
    "Mostremos ahora la recuperación del secreto, escogemos $t$ participantes al azar:"
   ]
  },
  {
   "cell_type": "code",
   "execution_count": null,
   "metadata": {},
   "outputs": [],
   "source": [
    "import random \n",
    "random.shuffle(pares_secretos)\n",
    "\n",
    "estan_de_acuerdo = pares_secretos[:t]\n",
    "\n",
    "print(f'Estos son los pares de las {t} personas que están de acuerdo:')\n",
    "\n",
    "estan_de_acuerdo"
   ]
  },
  {
   "cell_type": "markdown",
   "metadata": {},
   "source": [
    "Y ahora, estas personas que están de acuerdo, llevan a cabo la interpolación de Lagrange. Podría usarse el de Newton, pero teniendo en cuenta que el de Lagrange se ejecuta lo suficientemente rápido, lo escogeremos para esta prueba. Sage proporciona una manera rápida de obtenerlo que nos resulta ventajosa.\n",
    "\n",
    "De esta forma, se descubre el secreto:"
   ]
  },
  {
   "cell_type": "code",
   "execution_count": null,
   "metadata": {},
   "outputs": [],
   "source": [
    "q = K.lagrange_polynomial(estan_de_acuerdo)\n",
    "q(0)"
   ]
  },
  {
   "cell_type": "markdown",
   "metadata": {},
   "source": [
    "¿Qué ocurriría si no se llegara a la cantidad de personas requerida? "
   ]
  },
  {
   "cell_type": "code",
   "execution_count": null,
   "metadata": {},
   "outputs": [],
   "source": [
    "random.shuffle(pares_secretos)\n",
    "\n",
    "frustrados = pares_secretos[:randint(1, t-1)]\n",
    "r = K.lagrange_polynomial(frustrados)\n",
    "r(0)"
   ]
  },
  {
   "cell_type": "markdown",
   "metadata": {},
   "source": [
    "No son capaces de conseguir el secreto."
   ]
  }
 ],
 "metadata": {
  "kernelspec": {
   "display_name": "SageMath 9.4",
   "language": "sage",
   "name": "sagemath"
  },
  "language_info": {
   "codemirror_mode": {
    "name": "ipython",
    "version": 3
   },
   "file_extension": ".py",
   "mimetype": "text/x-python",
   "name": "python",
   "nbconvert_exporter": "python",
   "pygments_lexer": "ipython3",
   "version": "3.9.5"
  }
 },
 "nbformat": 4,
 "nbformat_minor": 4
}
