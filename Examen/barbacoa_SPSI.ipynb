{
 "cells": [
  {
   "cell_type": "code",
   "execution_count": 103,
   "metadata": {},
   "outputs": [],
   "source": [
    "import random"
   ]
  },
  {
   "cell_type": "code",
   "execution_count": 104,
   "metadata": {},
   "outputs": [],
   "source": [
    "# Biyeccion entre letras y numeros\n",
    "def f(c):\n",
    "    cad = \"ABCDEFGHIJKLMNOPQRSTUVWXYZ\"\n",
    "    return f\"{cad.index(c.upper()):02}\"\n",
    "\n",
    "# A partir de una cadena devuelve un array de enteros que codifica la cadena\n",
    "def F(s):\n",
    "    return [int(f(c)) for c in s]\n",
    "\n",
    "def f_inv(n):\n",
    "    cad = \"ABCDEFGHIJKLMNOPQRSTUVWXYZ\"\n",
    "    return cad[n]\n",
    "\n",
    "# A partir de una lista de enteros devuelve la cadena codificada por la lista\n",
    "def F_inv(l):\n",
    "    return ''.join([f_inv(n) for n in l])\n"
   ]
  },
  {
   "cell_type": "markdown",
   "metadata": {},
   "source": [
    "## Criptosistema afín"
   ]
  },
  {
   "cell_type": "markdown",
   "metadata": {},
   "source": [
    "### Funciones"
   ]
  },
  {
   "cell_type": "code",
   "execution_count": 105,
   "metadata": {},
   "outputs": [],
   "source": [
    "class Afin:\n",
    "    '''\n",
    "    TODO: \n",
    "    - Meter funciones de cifrar y descifrar\n",
    "    - Guardar la clave y generar la de descifrado automáticamente\n",
    "    '''\n",
    "    \n",
    "    def e(self, K,x):\n",
    "        a, b, n = K\n",
    "        return (a*x + b) % n\n",
    "\n",
    "    def E(self, K, m):\n",
    "        result = []\n",
    "        m_number = [ int(f(c)) for c in m ]\n",
    "        \n",
    "        for c in m_number:\n",
    "            result.append(self.e(K, c))\n",
    "            \n",
    "        return ''.join([ f_inv(c) for c in result ]) "
   ]
  },
  {
   "cell_type": "markdown",
   "metadata": {},
   "source": [
    "### Clave de cifrado"
   ]
  },
  {
   "cell_type": "code",
   "execution_count": 106,
   "metadata": {},
   "outputs": [],
   "source": [
    "n, a, b = 26, 347, 32780\n",
    "K = (a, b, n)"
   ]
  },
  {
   "cell_type": "code",
   "execution_count": 107,
   "metadata": {},
   "outputs": [],
   "source": [
    "afin = Afin()"
   ]
  },
  {
   "cell_type": "markdown",
   "metadata": {},
   "source": [
    "### Cifrado"
   ]
  },
  {
   "cell_type": "code",
   "execution_count": 108,
   "metadata": {},
   "outputs": [
    {
     "name": "stdout",
     "output_type": "stream",
     "text": [
      "Mensaje cifrado: DQHOJQYEHAUXE\n"
     ]
    }
   ],
   "source": [
    "m = \"BONITOMENSAJE\"\n",
    "m_cifrado = afin.E(K, m)\n",
    "print(\"Mensaje cifrado: %s\" % m_cifrado)"
   ]
  },
  {
   "cell_type": "markdown",
   "metadata": {},
   "source": [
    "### Clave de descifrado"
   ]
  },
  {
   "cell_type": "code",
   "execution_count": 109,
   "metadata": {},
   "outputs": [],
   "source": [
    "a_d = inverse_mod(a,n)\n",
    "b_d = (-a_d*b) % n\n",
    "\n",
    "K_d = (a_d, b_d, n)"
   ]
  },
  {
   "cell_type": "markdown",
   "metadata": {},
   "source": [
    "### Descifrado"
   ]
  },
  {
   "cell_type": "code",
   "execution_count": 110,
   "metadata": {},
   "outputs": [
    {
     "name": "stdout",
     "output_type": "stream",
     "text": [
      "Mensaje descifrado: BONITOMENSAJE\n"
     ]
    }
   ],
   "source": [
    "m_d = afin.E(K_d, m_cifrado)\n",
    "print(\"Mensaje descifrado: %s\" % m_d)"
   ]
  },
  {
   "cell_type": "markdown",
   "metadata": {},
   "source": [
    "## Cifrado de Vigenère"
   ]
  },
  {
   "cell_type": "markdown",
   "metadata": {},
   "source": [
    "### Funciones"
   ]
  },
  {
   "cell_type": "code",
   "execution_count": 111,
   "metadata": {},
   "outputs": [],
   "source": [
    "class Vigenere: \n",
    "    '''\n",
    "    TODO: \n",
    "    - Meter funciones de cifrar y descifrar\n",
    "    - Guardar la clave y generar la de descifrado automáticamente\n",
    "    '''\n",
    "    \n",
    "    def __init__(self):\n",
    "        self.n = 26    # Longitud del alfabeto\n",
    "    \n",
    "    \n",
    "    def yuxtaposicion(self, K, s):\n",
    "        K_aux = ''.join(K)\n",
    "        \n",
    "        while len(K_aux) < len(s):\n",
    "            K_aux += K\n",
    "            \n",
    "        return K_aux[:len(s)]\n",
    "\n",
    "    \n",
    "    def e(self, s_j, K_len_s_j):\n",
    "        return f_inv( (int(f(s_j))+int(f(K_len_s_j))) % self.n )\n",
    "    \n",
    "\n",
    "    def E(self, K, s):\n",
    "        K_len_s = self.yuxtaposicion(K, s)\n",
    "        \n",
    "        return ''.join([\n",
    "            self.e(s_j,K_j) for s_j, K_j in zip(s,K_len_s)\n",
    "        ])\n"
   ]
  },
  {
   "cell_type": "markdown",
   "metadata": {},
   "source": [
    "### Clave de cifrado"
   ]
  },
  {
   "cell_type": "code",
   "execution_count": 112,
   "metadata": {},
   "outputs": [],
   "source": [
    "K = 'BUENASTARDES'"
   ]
  },
  {
   "cell_type": "code",
   "execution_count": 113,
   "metadata": {},
   "outputs": [],
   "source": [
    "vigenere = Vigenere()"
   ]
  },
  {
   "cell_type": "markdown",
   "metadata": {},
   "source": [
    "### Cifrado"
   ]
  },
  {
   "cell_type": "code",
   "execution_count": 114,
   "metadata": {},
   "outputs": [
    {
     "data": {
      "text/plain": [
       "'IIPNALHDFHPEVHHBQMBEIRGAGLEEEKMEDHRKBDI'"
      ]
     },
     "execution_count": 114,
     "metadata": {},
     "output_type": "execute_result"
    }
   ],
   "source": [
    "m = 'HOLAATODOELMUNDOQUIEROCIFRARESTEMENSAJE'\n",
    "m_cifrado = vigenere.E(K,m)\n",
    "m_cifrado"
   ]
  },
  {
   "cell_type": "markdown",
   "metadata": {},
   "source": [
    "### Clave de descifrado"
   ]
  },
  {
   "cell_type": "code",
   "execution_count": 115,
   "metadata": {
    "scrolled": true
   },
   "outputs": [
    {
     "data": {
      "text/plain": [
       "'ZGWNAIHAJXWI'"
      ]
     },
     "execution_count": 115,
     "metadata": {},
     "output_type": "execute_result"
    }
   ],
   "source": [
    "K_d = ''.join([f_inv(-int(f(k)) % n) for k in K])\n",
    "K_d"
   ]
  },
  {
   "cell_type": "markdown",
   "metadata": {},
   "source": [
    "### Descifrado"
   ]
  },
  {
   "cell_type": "code",
   "execution_count": 116,
   "metadata": {},
   "outputs": [
    {
     "data": {
      "text/plain": [
       "'HOLAATODOELMUNDOQUIEROCIFRARESTEMENSAJE'"
      ]
     },
     "execution_count": 116,
     "metadata": {},
     "output_type": "execute_result"
    }
   ],
   "source": [
    "m_d = vigenere.E(K_d, m_cifrado)\n",
    "m_d"
   ]
  },
  {
   "cell_type": "markdown",
   "metadata": {},
   "source": [
    "## Cifrado de Hill"
   ]
  },
  {
   "cell_type": "markdown",
   "metadata": {},
   "source": [
    "### Funciones"
   ]
  },
  {
   "cell_type": "code",
   "execution_count": 117,
   "metadata": {},
   "outputs": [],
   "source": [
    "class Hill: \n",
    "    '''\n",
    "    TODO: \n",
    "    - Meter funciones de cifrar y descifrar\n",
    "    - Guardar la clave y generar la de descifrado automáticamente\n",
    "    '''\n",
    "    \n",
    "    def __init__(self):\n",
    "        self.n = 26 # Longitud del alfabeto\n",
    "\n",
    "        \n",
    "    def amplia(self, s):\n",
    "        if(len(s) % m != 0):\n",
    "            veces = -len(s) % m\n",
    "            s += ''.join(['W' for i in range(veces)])\n",
    "            \n",
    "        return s\n",
    "\n",
    "    \n",
    "    def E(self, m, T, s):\n",
    "        s = self.amplia(s)\n",
    "        \n",
    "        blocks  = [s[m*i : m*(i+1)] for i in range(len(s)//m)]\n",
    "        \n",
    "        blocks_n = [ vector([int(f(c)) for c in block]) for block in blocks ]\n",
    "        \n",
    "        blocks_cipher = [ T*block for block in blocks_n ]\n",
    "        blocks_cipher = [ [f_inv(k) for k in block] for block in blocks_cipher ]\n",
    "        \n",
    "        s_cipher = ''.join([''.join(block) for block in blocks_cipher])\n",
    "        \n",
    "        return s_cipher"
   ]
  },
  {
   "cell_type": "markdown",
   "metadata": {},
   "source": [
    "### Clave de cifrado"
   ]
  },
  {
   "cell_type": "code",
   "execution_count": 118,
   "metadata": {},
   "outputs": [],
   "source": [
    "m = 5\n",
    "T = matrix(Integers(n), m,\n",
    "          [\n",
    "               3, 24, 12,  1,  2,\n",
    "               5,  3, 10, 22, 21,\n",
    "              36,  1,  2,  5,  6,\n",
    "              19, 18, 17, 16,  1,\n",
    "               7,  6, 12,  0,  1\n",
    "          ])"
   ]
  },
  {
   "cell_type": "markdown",
   "metadata": {},
   "source": [
    "### Cifrado"
   ]
  },
  {
   "cell_type": "code",
   "execution_count": 119,
   "metadata": {},
   "outputs": [
    {
     "name": "stdout",
     "output_type": "stream",
     "text": [
      "Mensaje cifrado: OSWUMRVUCAXZMYGCWUEY\n"
     ]
    }
   ],
   "source": [
    "hill = Hill()\n",
    "\n",
    "s = 'COMOESTANUSTEDES'\n",
    "s_cipher = hill.E(m, T, s)\n",
    "print(\"Mensaje cifrado: %s\" % s_cipher)"
   ]
  },
  {
   "cell_type": "markdown",
   "metadata": {},
   "source": [
    "### Clave de descifrado"
   ]
  },
  {
   "cell_type": "code",
   "execution_count": 120,
   "metadata": {},
   "outputs": [],
   "source": [
    "T_d = T**(-1)"
   ]
  },
  {
   "cell_type": "markdown",
   "metadata": {},
   "source": [
    "### Descifrado"
   ]
  },
  {
   "cell_type": "code",
   "execution_count": 121,
   "metadata": {
    "scrolled": true
   },
   "outputs": [
    {
     "data": {
      "text/plain": [
       "'COMOESTANUSTEDESWWWW'"
      ]
     },
     "execution_count": 121,
     "metadata": {},
     "output_type": "execute_result"
    }
   ],
   "source": [
    "s_d = hill.E(m, T_d, s_cipher)\n",
    "s_d"
   ]
  },
  {
   "cell_type": "markdown",
   "metadata": {},
   "source": [
    "---"
   ]
  },
  {
   "cell_type": "markdown",
   "metadata": {},
   "source": [
    "## Cosas de Polinomios que no recuerdo"
   ]
  },
  {
   "cell_type": "code",
   "execution_count": 15,
   "metadata": {},
   "outputs": [],
   "source": [
    "K = PolynomialRing(GF(2), 'x')\n",
    "m = K(x**5+x**2+1)\n",
    "a = K(x**2+1)\n",
    "b = K(x+1)"
   ]
  },
  {
   "cell_type": "code",
   "execution_count": 16,
   "metadata": {},
   "outputs": [],
   "source": [
    "def div(a,b):\n",
    "    return a//b, a%b"
   ]
  },
  {
   "cell_type": "code",
   "execution_count": 17,
   "metadata": {},
   "outputs": [
    {
     "data": {
      "text/plain": [
       "(x + 1, 0)"
      ]
     },
     "execution_count": 17,
     "metadata": {},
     "output_type": "execute_result"
    }
   ],
   "source": [
    "div(a,b)"
   ]
  },
  {
   "cell_type": "code",
   "execution_count": 18,
   "metadata": {},
   "outputs": [
    {
     "data": {
      "text/plain": [
       "(0, 0)"
      ]
     },
     "execution_count": 18,
     "metadata": {},
     "output_type": "execute_result"
    }
   ],
   "source": [
    "div(K(2*x**2+2),K(4*x+3))"
   ]
  },
  {
   "cell_type": "code",
   "execution_count": 19,
   "metadata": {},
   "outputs": [
    {
     "data": {
      "text/plain": [
       "(x, 0)"
      ]
     },
     "execution_count": 19,
     "metadata": {},
     "output_type": "execute_result"
    }
   ],
   "source": [
    "div(K(3*x+4),K(3))"
   ]
  },
  {
   "cell_type": "code",
   "execution_count": 20,
   "metadata": {},
   "outputs": [
    {
     "data": {
      "text/plain": [
       "(1, x, x^4 + x^2 + x + 1)"
      ]
     },
     "execution_count": 20,
     "metadata": {},
     "output_type": "execute_result"
    }
   ],
   "source": [
    "xgcd(m,a)"
   ]
  },
  {
   "cell_type": "code",
   "execution_count": 21,
   "metadata": {},
   "outputs": [
    {
     "data": {
      "text/plain": [
       "(1, 7, -2)"
      ]
     },
     "execution_count": 21,
     "metadata": {},
     "output_type": "execute_result"
    }
   ],
   "source": [
    "xgcd(5,17)"
   ]
  },
  {
   "cell_type": "code",
   "execution_count": 22,
   "metadata": {},
   "outputs": [
    {
     "data": {
      "text/plain": [
       "7"
      ]
     },
     "execution_count": 22,
     "metadata": {},
     "output_type": "execute_result"
    }
   ],
   "source": [
    "35%14"
   ]
  },
  {
   "cell_type": "code",
   "execution_count": 23,
   "metadata": {
    "scrolled": true
   },
   "outputs": [
    {
     "data": {
      "text/plain": [
       "10"
      ]
     },
     "execution_count": 23,
     "metadata": {},
     "output_type": "execute_result"
    }
   ],
   "source": [
    "(5-590)%85"
   ]
  },
  {
   "cell_type": "markdown",
   "metadata": {},
   "source": [
    "## AES"
   ]
  },
  {
   "cell_type": "code",
   "execution_count": 13,
   "metadata": {},
   "outputs": [
    {
     "data": {
      "text/plain": [
       "Univariate Quotient Polynomial Ring in x over Finite Field of size 2 with modulus x^8 + x^4 + x^3 + x + 1"
      ]
     },
     "execution_count": 13,
     "metadata": {},
     "output_type": "execute_result"
    }
   ],
   "source": [
    "R = PolynomialRing(GF(2), 'x').quotient('x^8 + x^4 + x^3 + x + 1', 'x')\n",
    "R"
   ]
  },
  {
   "cell_type": "markdown",
   "metadata": {},
   "source": [
    "### Transformaciones entre las distintas formas de representar un byte"
   ]
  },
  {
   "cell_type": "code",
   "execution_count": 5,
   "metadata": {},
   "outputs": [],
   "source": [
    "def bin_to_hex(binary):\n",
    "    return hex(int(binary,2))[2:].zfill(2)\n",
    "\n",
    "def hex_to_bin(hexadecimal):\n",
    "    return bin(int(hexadecimal, 16))[2:].zfill(8)\n",
    "\n",
    "def bin_to_pol(binary):\n",
    "    binary_list_int = [int(c) for c in binary[::-1]]\n",
    "    return R(binary_list_int)\n",
    "\n",
    "def pol_to_bin(pol):\n",
    "    return ''.join([str(c) for c in pol.list()[::-1]])\n",
    "\n",
    "def pol_to_hex(pol):\n",
    "    return bin_to_hex(pol_to_bin(pol))\n",
    "\n",
    "def hex_to_pol(hexadecimal):\n",
    "    return bin_to_pol(hex_to_bin(hexadecimal))"
   ]
  },
  {
   "cell_type": "code",
   "execution_count": 42,
   "metadata": {},
   "outputs": [
    {
     "data": {
      "text/plain": [
       "('32', x^5 + x^4 + x, '00110010', '00110010')"
      ]
     },
     "execution_count": 42,
     "metadata": {},
     "output_type": "execute_result"
    }
   ],
   "source": [
    "binary = '00110010'\n",
    "bin_to_hex(binary), bin_to_pol(binary), hex_to_bin(bin_to_hex(binary)), pol_to_bin(bin_to_pol(binary))"
   ]
  },
  {
   "cell_type": "code",
   "execution_count": 43,
   "metadata": {},
   "outputs": [
    {
     "data": {
      "text/plain": [
       "('00101100', '2c', x^5 + x^3 + x^2, x^5 + x^3 + x^2)"
      ]
     },
     "execution_count": 43,
     "metadata": {},
     "output_type": "execute_result"
    }
   ],
   "source": [
    "pol = R(x**5+x**3+x**2)\n",
    "pol_to_bin(pol), pol_to_hex(pol), bin_to_pol(pol_to_bin(pol)), hex_to_pol(pol_to_hex(pol))"
   ]
  },
  {
   "cell_type": "code",
   "execution_count": 44,
   "metadata": {},
   "outputs": [
    {
     "data": {
      "text/plain": [
       "('11010000', x^7 + x^6 + x^4, 'd0', 'd0')"
      ]
     },
     "execution_count": 44,
     "metadata": {},
     "output_type": "execute_result"
    }
   ],
   "source": [
    "hexadecimal = 'D0'\n",
    "hex_to_bin(hexadecimal), hex_to_pol(hexadecimal), bin_to_hex(hex_to_bin(hexadecimal)), pol_to_hex(hex_to_pol(hexadecimal))"
   ]
  },
  {
   "cell_type": "code",
   "execution_count": 45,
   "metadata": {
    "scrolled": true
   },
   "outputs": [
    {
     "name": "stdout",
     "output_type": "stream",
     "text": [
      "00110010\n",
      "d0\n",
      "x^5 + x^3 + x^2\n"
     ]
    }
   ],
   "source": [
    "print(hex_to_bin(pol_to_hex(bin_to_pol(binary))))\n",
    "print(pol_to_hex(bin_to_pol(hex_to_bin(hexadecimal))))\n",
    "print(hex_to_pol(bin_to_hex(pol_to_bin(pol))))"
   ]
  },
  {
   "cell_type": "markdown",
   "metadata": {},
   "source": [
    "### `SubBytes()`"
   ]
  },
  {
   "cell_type": "code",
   "execution_count": 50,
   "metadata": {},
   "outputs": [
    {
     "data": {
      "text/plain": [
       "x^7 + x^6 + x^3 + x"
      ]
     },
     "execution_count": 50,
     "metadata": {},
     "output_type": "execute_result"
    }
   ],
   "source": [
    "n = R(x^6+x^4+x+1)\n",
    "n_inv = R(n**(-1))\n",
    "n_inv"
   ]
  },
  {
   "cell_type": "code",
   "execution_count": 51,
   "metadata": {},
   "outputs": [
    {
     "data": {
      "text/plain": [
       "'11001010'"
      ]
     },
     "execution_count": 51,
     "metadata": {},
     "output_type": "execute_result"
    }
   ],
   "source": [
    "n_bin = pol_to_bin(n_inv)\n",
    "n_bin"
   ]
  },
  {
   "cell_type": "code",
   "execution_count": 71,
   "metadata": {},
   "outputs": [
    {
     "data": {
      "text/plain": [
       "'ed'"
      ]
     },
     "execution_count": 71,
     "metadata": {},
     "output_type": "execute_result"
    }
   ],
   "source": [
    "def s_box_transform(xy):\n",
    "    byte_pol = hex_to_pol(xy)\n",
    "    if(xy != '00'):    \n",
    "        byte_pol_inv = R(byte_pol**(-1))\n",
    "        byte_pol_inv_bin = pol_to_bin(byte_pol_inv)\n",
    "        b = vector(Integers(2), [int(c) for c in byte_pol_inv_bin[::-1]])\n",
    "    else:\n",
    "        b = vector(Integers(2), [0,0,0,0,0,0,0,0])\n",
    "    M = matrix(Integers(2),8,[\n",
    "        1,0,0,0,1,1,1,1,\n",
    "        1,1,0,0,0,1,1,1,\n",
    "        1,1,1,0,0,0,1,1,\n",
    "        1,1,1,1,0,0,0,1,\n",
    "        1,1,1,1,1,0,0,0,\n",
    "        0,1,1,1,1,1,0,0,\n",
    "        0,0,1,1,1,1,1,0,\n",
    "        0,0,0,1,1,1,1,1,\n",
    "    ])\n",
    "    c = vector(Integers(2), [1,1,0,0,0,1,1,0])\n",
    "    res = M*b + c\n",
    "    res_bin_list = list(res[::-1])\n",
    "    res_bin = ''.join([str(c) for c in res_bin_list])\n",
    "    return bin_to_hex(res_bin)\n",
    "\n",
    "s_box_transform('53')"
   ]
  },
  {
   "cell_type": "markdown",
   "metadata": {},
   "source": [
    "### S-Box"
   ]
  },
  {
   "cell_type": "code",
   "execution_count": 73,
   "metadata": {},
   "outputs": [
    {
     "name": "stdout",
     "output_type": "stream",
     "text": [
      "['63', '7c', '77', '7b', 'f2', '6b', '6f', 'c5', '30', '01', '67', '2b', 'fe', 'd7', 'ab', '76']\n",
      "['ca', '82', 'c9', '7d', 'fa', '59', '47', 'f0', 'ad', 'd4', 'a2', 'af', '9c', 'a4', '72', 'c0']\n",
      "['b7', 'fd', '93', '26', '36', '3f', 'f7', 'cc', '34', 'a5', 'e5', 'f1', '71', 'd8', '31', '15']\n",
      "['04', 'c7', '23', 'c3', '18', '96', '05', '9a', '07', '12', '80', 'e2', 'eb', '27', 'b2', '75']\n",
      "['09', '83', '2c', '1a', '1b', '6e', '5a', 'a0', '52', '3b', 'd6', 'b3', '29', 'e3', '2f', '84']\n",
      "['53', 'd1', '00', 'ed', '20', 'fc', 'b1', '5b', '6a', 'cb', 'be', '39', '4a', '4c', '58', 'cf']\n",
      "['d0', 'ef', 'aa', 'fb', '43', '4d', '33', '85', '45', 'f9', '02', '7f', '50', '3c', '9f', 'a8']\n",
      "['51', 'a3', '40', '8f', '92', '9d', '38', 'f5', 'bc', 'b6', 'da', '21', '10', 'ff', 'f3', 'd2']\n",
      "['cd', '0c', '13', 'ec', '5f', '97', '44', '17', 'c4', 'a7', '7e', '3d', '64', '5d', '19', '73']\n",
      "['60', '81', '4f', 'dc', '22', '2a', '90', '88', '46', 'ee', 'b8', '14', 'de', '5e', '0b', 'db']\n",
      "['e0', '32', '3a', '0a', '49', '06', '24', '5c', 'c2', 'd3', 'ac', '62', '91', '95', 'e4', '79']\n",
      "['e7', 'c8', '37', '6d', '8d', 'd5', '4e', 'a9', '6c', '56', 'f4', 'ea', '65', '7a', 'ae', '08']\n",
      "['ba', '78', '25', '2e', '1c', 'a6', 'b4', 'c6', 'e8', 'dd', '74', '1f', '4b', 'bd', '8b', '8a']\n",
      "['70', '3e', 'b5', '66', '48', '03', 'f6', '0e', '61', '35', '57', 'b9', '86', 'c1', '1d', '9e']\n",
      "['e1', 'f8', '98', '11', '69', 'd9', '8e', '94', '9b', '1e', '87', 'e9', 'ce', '55', '28', 'df']\n",
      "['8c', 'a1', '89', '0d', 'bf', 'e6', '42', '68', '41', '99', '2d', '0f', 'b0', '54', 'bb', '16']\n"
     ]
    }
   ],
   "source": [
    "hex_digits = [hex(i)[2:] for i in range(16)]\n",
    "s_box = []\n",
    "for x in hex_digits:\n",
    "    row = []\n",
    "    for y in hex_digits:\n",
    "        row.append(s_box_transform(x+y))\n",
    "    s_box.append(row)\n",
    "    \n",
    "for row in s_box:\n",
    "    print(row)"
   ]
  },
  {
   "cell_type": "markdown",
   "metadata": {},
   "source": [
    "### `MixColumns`"
   ]
  },
  {
   "cell_type": "code",
   "execution_count": 27,
   "metadata": {},
   "outputs": [
    {
     "data": {
      "text/plain": [
       "[(x^7 + x^6 + x^5 + x^4 + 1)*y^3 + (x^7 + x^3 + x^2 + x + 1)*y^2 + (x^7 + x^6 + x^3 + x + 1)*y + x^7 + x^6 + x^4 + x^2 + 1,\n",
       " (x^7 + x^4)*y^3 + (x^7 + x^6 + x^4 + x^2 + 1)*y^2 + (x^7 + x)*y + x^7 + x^6 + x^5 + x^3,\n",
       " (x^7 + x^5 + x^3)*y^3 + (x^7 + x^5 + x^4 + x^3 + x^2)*y^2 + (x^7 + x^3 + 1)*y + x^7 + x^5 + x^3 + x^2 + x + 1,\n",
       " (x^7 + x^6 + x^3 + x + 1)*y^3 + x^7*y^2 + (x^7 + x^3)*y + x^7 + x^5 + x^4 + x^3 + x^2 + 1]"
      ]
     },
     "execution_count": 27,
     "metadata": {},
     "output_type": "execute_result"
    }
   ],
   "source": [
    "K.<y> = PolynomialRing(R)\n",
    "state = [K.random_element(degree=3) for i in range(4)]\n",
    "state"
   ]
  },
  {
   "cell_type": "code",
   "execution_count": 28,
   "metadata": {},
   "outputs": [],
   "source": [
    "def MixColumns(state):\n",
    "    a = K((hex_to_pol('03'))*y^3 + (hex_to_pol('01'))*y^2 + hex_to_pol('01')*y + hex_to_pol('02'))\n",
    "    res = []\n",
    "    for s in state:\n",
    "        res.append(a*s % K(y**4+1))\n",
    "    return res"
   ]
  },
  {
   "cell_type": "code",
   "execution_count": 29,
   "metadata": {},
   "outputs": [
    {
     "data": {
      "text/plain": [
       "[(x^7 + x^6 + x^4 + x^3 + 1)*y^3 + (x^4 + x + 1)*y^2 + (x^5 + x + 1)*y + x^7 + x^3 + 1,\n",
       " (x^6 + x^3 + x^2 + x + 1)*y^3 + (x^6 + x^5 + x^4)*y^2 + (x + 1)*y + x^4 + x + 1,\n",
       " (x^7 + x^4 + x^2)*y^3 + (x^7 + x^5 + x^2 + x)*y^2 + (x^7 + x^6 + x^4 + 1)*y + x^7 + x^6 + x^4 + 1,\n",
       " (x^6 + x^4 + x^3 + 1)*y^3 + (x^6 + x^5 + x^3)*y^2 + (x^7 + x^6 + x^5 + x^2 + x)*y + x^7 + x^5 + x^3 + 1]"
      ]
     },
     "execution_count": 29,
     "metadata": {},
     "output_type": "execute_result"
    }
   ],
   "source": [
    "MixColumns(state)"
   ]
  },
  {
   "cell_type": "markdown",
   "metadata": {},
   "source": [
    "## RSA"
   ]
  },
  {
   "cell_type": "markdown",
   "metadata": {},
   "source": [
    "### Funciones"
   ]
  },
  {
   "cell_type": "code",
   "execution_count": null,
   "metadata": {},
   "outputs": [],
   "source": [
    "def E(m, e, n):\n",
    "    return m**e % n\n",
    "\n",
    "def D(y, d, n):\n",
    "    return y**d % n\n"
   ]
  },
  {
   "cell_type": "markdown",
   "metadata": {},
   "source": [
    "### Claves de cifrado y descifrado"
   ]
  },
  {
   "cell_type": "code",
   "execution_count": 16,
   "metadata": {},
   "outputs": [],
   "source": [
    "p = 1597\n",
    "q = 1087\n",
    "e = 187\n",
    "\n",
    "n = p * q\n",
    "phi_n = euler_phi(n)\n",
    "d = inverse_mod(e,phi_n)"
   ]
  },
  {
   "cell_type": "markdown",
   "metadata": {},
   "source": [
    "### Cifrado"
   ]
  },
  {
   "cell_type": "code",
   "execution_count": 26,
   "metadata": {},
   "outputs": [],
   "source": [
    "M = [170415, 110804, 62004, 1101, 111402, 1400]"
   ]
  },
  {
   "cell_type": "code",
   "execution_count": 20,
   "metadata": {
    "scrolled": true
   },
   "outputs": [
    {
     "data": {
      "text/plain": [
       "[1442861, 82626, 690931, 1489385, 363461, 62317]"
      ]
     },
     "execution_count": 20,
     "metadata": {},
     "output_type": "execute_result"
    }
   ],
   "source": [
    "M_cifrado = [E(m,e,n) for m in M]\n",
    "M_cifrado"
   ]
  },
  {
   "cell_type": "markdown",
   "metadata": {},
   "source": [
    "### Descifrado"
   ]
  },
  {
   "cell_type": "code",
   "execution_count": 21,
   "metadata": {},
   "outputs": [
    {
     "data": {
      "text/plain": [
       "[170415, 110804, 62004, 1101, 111402, 1400]"
      ]
     },
     "execution_count": 21,
     "metadata": {},
     "output_type": "execute_result"
    }
   ],
   "source": [
    "M_descifrado = [D(y, d, n) for y in M_cifrado]\n",
    "M_descifrado"
   ]
  },
  {
   "cell_type": "code",
   "execution_count": 22,
   "metadata": {},
   "outputs": [
    {
     "data": {
      "text/plain": [
       "True"
      ]
     },
     "execution_count": 22,
     "metadata": {},
     "output_type": "execute_result"
    }
   ],
   "source": [
    "M == M_descifrado"
   ]
  },
  {
   "cell_type": "markdown",
   "metadata": {},
   "source": [
    "## Diffie-Hellman"
   ]
  },
  {
   "cell_type": "code",
   "execution_count": 4,
   "metadata": {},
   "outputs": [
    {
     "name": "stdout",
     "output_type": "stream",
     "text": [
      "X = 53, Y = 82\n",
      "Llave privada: 82, ¿coindiden las llaves? True\n"
     ]
    }
   ],
   "source": [
    "n = 83\n",
    "g = 2\n",
    "# A\n",
    "x = 59\n",
    "# B\n",
    "y = 41\n",
    "\n",
    "# A calcula X\n",
    "X = g**x % n\n",
    "# B calcula Y\n",
    "Y = g**y % n\n",
    "\n",
    "print(\"X = %d, Y = %d\" % (X,Y))\n",
    "\n",
    "# B envía Y a A y este calcula k\n",
    "k = Y**x % n\n",
    "# A envía X a B y este calcula k'\n",
    "k_ = X**y % n\n",
    "\n",
    "print(\"Llave privada: %d, ¿coindiden las llaves? %r\" % (k, k==k_))\n",
    "\n"
   ]
  },
  {
   "cell_type": "markdown",
   "metadata": {},
   "source": [
    "## El Gamal"
   ]
  },
  {
   "cell_type": "markdown",
   "metadata": {},
   "source": [
    "### Funciones"
   ]
  },
  {
   "cell_type": "code",
   "execution_count": 47,
   "metadata": {},
   "outputs": [],
   "source": [
    "def cifrado_El_Gamal(m, p, g, y, k):\n",
    "    return (g**k % p, m*(y**k) % p)\n",
    "\n",
    "def descifrado_El_Gamal(res, p, a):\n",
    "    r = res[0]**(p-a-1) % p\n",
    "    return res[1]*r % p"
   ]
  },
  {
   "cell_type": "markdown",
   "metadata": {},
   "source": [
    "### Claves"
   ]
  },
  {
   "cell_type": "code",
   "execution_count": 83,
   "metadata": {},
   "outputs": [],
   "source": [
    "# Clave privada\n",
    "a = 21702\n",
    "\n",
    "# Clave pública\n",
    "p = p = (10**11).next_prime()\n",
    "K = GF(p)\n",
    "g = K(2)\n",
    "y = K(g**a)"
   ]
  },
  {
   "cell_type": "markdown",
   "metadata": {},
   "source": [
    "### Cifrado"
   ]
  },
  {
   "cell_type": "code",
   "execution_count": 85,
   "metadata": {},
   "outputs": [
    {
     "name": "stdout",
     "output_type": "stream",
     "text": [
      "Mensaje sin cifrar: 1819001719\n",
      "Resultado del cifrado: (89947923179,2714338462)\n"
     ]
    }
   ],
   "source": [
    "# Eleccion de k\n",
    "k = 281\n",
    "assert(k >= 2 and k<= p-1 and gcd(k,p-1) == 1)\n",
    "\n",
    "# Mensaje\n",
    "mensaje = 'start'\n",
    "m = int(''.join([f(c) for c in mensaje]))\n",
    "print(\"Mensaje sin cifrar: %d\" % m)\n",
    "\n",
    "# Cifrado\n",
    "res = cifrado_El_Gamal(m, p, g, y, k) # p, g, y claves publicas y k elegido por nosotros\n",
    "print(\"Resultado del cifrado: (%d,%d)\" % res)"
   ]
  },
  {
   "cell_type": "markdown",
   "metadata": {},
   "source": [
    "### Descifrado"
   ]
  },
  {
   "cell_type": "code",
   "execution_count": 86,
   "metadata": {},
   "outputs": [
    {
     "name": "stdout",
     "output_type": "stream",
     "text": [
      "Mensaje descifrado: 1819001719\n"
     ]
    }
   ],
   "source": [
    "m_d = descifrado_El_Gamal(res, p, a)\n",
    "print(\"Mensaje descifrado: %d\" % m_d)"
   ]
  },
  {
   "cell_type": "code",
   "execution_count": 87,
   "metadata": {},
   "outputs": [
    {
     "data": {
      "text/plain": [
       "'START'"
      ]
     },
     "execution_count": 87,
     "metadata": {},
     "output_type": "execute_result"
    }
   ],
   "source": [
    "m_d_split = [int(str(m_d)[2*i:2*i+2]) for i in range(len(str(m_d))/2) ]\n",
    "mensaje_descifrado = F_inv(m_d_split)\n",
    "mensaje_descifrado"
   ]
  },
  {
   "cell_type": "markdown",
   "metadata": {},
   "source": [
    "## Firma digital estándar"
   ]
  },
  {
   "cell_type": "code",
   "execution_count": 149,
   "metadata": {},
   "outputs": [],
   "source": [
    "q = (2**10).next_prime() # 1031\n",
    "p = 2063\n",
    "assert(p % q == 1)\n",
    "g_0 = 396\n",
    "assert( g_0**((p-1)/q) % p != 1)\n",
    "g = g_0**((p-1)/q) % p\n",
    "# Llave secreta\n",
    "x = 639\n",
    "# Llave pública\n",
    "y = g**x % p"
   ]
  },
  {
   "cell_type": "code",
   "execution_count": 150,
   "metadata": {},
   "outputs": [
    {
     "data": {
      "text/plain": [
       "(653, 247)"
      ]
     },
     "execution_count": 150,
     "metadata": {},
     "output_type": "execute_result"
    }
   ],
   "source": [
    "h = 534\n",
    "k = 97\n",
    "r = (g**k % p) % q\n",
    "k_inv = inverse_mod(k,q)\n",
    "s = (k_inv*(h+x*r)) % q\n",
    "(r,s)"
   ]
  },
  {
   "cell_type": "code",
   "execution_count": 151,
   "metadata": {
    "scrolled": true
   },
   "outputs": [
    {
     "data": {
      "text/plain": [
       "437"
      ]
     },
     "execution_count": 151,
     "metadata": {},
     "output_type": "execute_result"
    }
   ],
   "source": [
    "w = inverse_mod(s,q)\n",
    "u_1 = h*w % q\n",
    "u_2 = r*w % q\n",
    "v = ((g**u_1)*(y**u_2) % p) % q\n",
    "v"
   ]
  },
  {
   "cell_type": "markdown",
   "metadata": {},
   "source": [
    "## Shamir"
   ]
  },
  {
   "cell_type": "markdown",
   "metadata": {},
   "source": [
    "### Parámetros"
   ]
  },
  {
   "cell_type": "code",
   "execution_count": 18,
   "metadata": {},
   "outputs": [],
   "source": [
    "# Secreto\n",
    "s = 1132\n",
    "# Número de participantes\n",
    "n = 10\n",
    "# Umbral de participantes para recuperar el secreto\n",
    "t = 7\n",
    "\n",
    "p = 1499\n",
    "\n",
    "assert(p.is_prime() and p > s and p > n)\n",
    "Zp = GF(p)\n",
    "\n",
    "\n",
    "A = [1096, 904, 474, 885, 590, 1033]\n",
    "X = [927, 779, 432, 1069, 740, 1445, 1111, 464, 44, 938]\n",
    "assert(len(A) == t-1 and len(X) == n)"
   ]
  },
  {
   "cell_type": "markdown",
   "metadata": {},
   "source": [
    "### Generación de claves privadas"
   ]
  },
  {
   "cell_type": "code",
   "execution_count": 21,
   "metadata": {},
   "outputs": [],
   "source": [
    "def Shamir(X,A):\n",
    "    K.<x> = PolynomialRing(Zp)\n",
    "    p = K(A)*x + s\n",
    "    Y = [p(x) for x in X]\n",
    "    return [ (x,y) for x, y in zip(X,Y) ]\n"
   ]
  },
  {
   "cell_type": "markdown",
   "metadata": {},
   "source": [
    "### Recuperación del secreto"
   ]
  },
  {
   "cell_type": "code",
   "execution_count": 17,
   "metadata": {},
   "outputs": [
    {
     "data": {
      "text/plain": [
       "1132"
      ]
     },
     "execution_count": 17,
     "metadata": {},
     "output_type": "execute_result"
    }
   ],
   "source": [
    "claves_privadas = Shamir(X,A)\n",
    "participes = claves_privadas[:7] # 7 primeros participes\n",
    "q = K.lagrange_polynomial(participes)\n",
    "q(0)"
   ]
  },
  {
   "cell_type": "markdown",
   "metadata": {},
   "source": [
    "## Massey-Omura"
   ]
  },
  {
   "cell_type": "code",
   "execution_count": null,
   "metadata": {},
   "outputs": [],
   "source": [
    "q = (2**20).next_prime() # 1048583\n",
    "K = GF(q)"
   ]
  },
  {
   "cell_type": "markdown",
   "metadata": {},
   "source": [
    "### Claves privadas"
   ]
  },
  {
   "cell_type": "code",
   "execution_count": null,
   "metadata": {},
   "outputs": [],
   "source": [
    "eA = 279\n",
    "dA = inverse_mod(eA, q-1)\n",
    "eB = 439\n",
    "dB = inverse_mod(eB, q-1)"
   ]
  },
  {
   "cell_type": "markdown",
   "metadata": {},
   "source": [
    "### Envío de mensajes"
   ]
  },
  {
   "cell_type": "code",
   "execution_count": null,
   "metadata": {},
   "outputs": [
    {
     "data": {
      "text/plain": [
       "123456"
      ]
     },
     "metadata": {},
     "output_type": "display_data"
    }
   ],
   "source": [
    "# Mensaje\n",
    "m = 123456\n",
    "# A envia a B\n",
    "m_cipher = K(m**eA)\n",
    "# B envia a A\n",
    "s = K(m_cipher**eB)\n",
    "# A vuelve a enviar a B\n",
    "r = K(s**dA)\n",
    "# B obtiene el mensaje cifrado\n",
    "m_d = K(r**dB)\n",
    "m_d"
   ]
  }
 ],
 "metadata": {
  "kernelspec": {
   "display_name": "SageMath 9.4",
   "language": "sage",
   "name": "sagemath"
  },
  "language_info": {
   "codemirror_mode": {
    "name": "ipython",
    "version": 3
   },
   "file_extension": ".py",
   "mimetype": "text/x-python",
   "name": "python",
   "nbconvert_exporter": "python",
   "pygments_lexer": "ipython3",
   "version": "3.9.5"
  }
 },
 "nbformat": 4,
 "nbformat_minor": 4
}
