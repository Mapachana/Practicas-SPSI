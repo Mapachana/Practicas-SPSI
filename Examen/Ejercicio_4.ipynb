{
 "cells": [
  {
   "cell_type": "markdown",
   "metadata": {},
   "source": [
    "# Ejercicio 4\n",
    "\n",
    "> Escenifique compartir el secreto de valor 113132 entre 50 partícipes, requiriéndose el acuerdo de 42 de ellos para explicitar dicho secreto. Use en este ejercicio el esquema de Shamir de intercambio de secretos, pudiendo el alumno servirse de Sagemath implementando su propio software"
   ]
  },
  {
   "cell_type": "markdown",
   "metadata": {},
   "source": [
    "Como se nos pide, vamos a ejemplificar el esquema de Shamir. \n",
    "\n",
    "Para empezar, escribamos nuestras hipótesis, usando la nomenclatura de la teoría:"
   ]
  },
  {
   "cell_type": "code",
   "execution_count": null,
   "metadata": {},
   "outputs": [],
   "source": [
    "# Secreto\n",
    "s = 113132 \n",
    "\n",
    "# Número de participantes\n",
    "n = 50\n",
    "\n",
    "# Umbral de participantes para recuperar el secreto\n",
    "t = 42"
   ]
  },
  {
   "cell_type": "markdown",
   "metadata": {},
   "source": [
    "Para operar, debemos realizar los siguientes pasos:\n",
    "\n",
    "1. Se elige un número primo $p$ tal que $p > máx\\{n, s\\}$\n",
    "2. Se eligen $t - 1$ elementos de $Z_p$, $a_1, \\dotsc, a_{t-1}$ de forma que $a_{t-1} \\ne 0$\n",
    "3. Consideramos el polinomio $p(x) = s + a_1x + \\dotsc + a_{t-1}x^{t-1}$.\n",
    "4. Son escogidos $x_1, \\dotsc, x_n \\in Z_p^*$, y se calcula para todo $1 \\le i \\le n$ el valor $y_i = p(x_i)$\n",
    "5. El partícipe $i, 1 \\le i \\le n$, recibe la parte del secreto $<x_i, y_i>$ y la mantendrá como par secreto\n",
    "\n",
    "Sin más dilación, vamos a ello:"
   ]
  },
  {
   "cell_type": "code",
   "execution_count": null,
   "metadata": {},
   "outputs": [],
   "source": [
    "# ──────────────────────────────────────────────────────────────────────── 1 ─────\n",
    "\n",
    "p = random_prime(2**64)\n",
    "\n",
    "while p <= max(n, s):\n",
    "    p = random_prime(2**64)\n",
    "\n",
    "print(f'El primo generado es p = {p}. \\n\\t -> ¿Es mayor que {n} y {s}? {p > max(n, s)}\\n')\n",
    "\n",
    "\n",
    "# Definimos los anillos necesarios para operar\n",
    "Zp = GF(p)\n",
    "K.<x> = PolynomialRing(Zp)\n",
    "\n",
    "\n",
    "\n",
    "# ──────────────────────────────────────────────────────────────────────── 2 ─────\n",
    "\n",
    "A = [Zp.random_element() for i in range(0, t-1)]\n",
    "print(f'Para A, hemos escogido {len(A)} = t-1 = {t-1} elementos de Zp\\n')\n",
    "\n",
    "\n",
    "# Nos aseguramos que A[t-2] = a_{t-1} != 0\n",
    "while (A[t-2] == 0):\n",
    "    A[t-2] = Zp.random_element()\n",
    "    \n",
    "print(f'Se tiene además que A[t-2] = a_(t-1) = {A[-1]} != 0\\n')\n",
    "\n",
    "\n",
    "\n",
    "# ──────────────────────────────────────────────────────────────────────── 3 ─────\n",
    "\n",
    "p = K(A)*x + s\n",
    "print(f'Escogemos el polinomio \\n{p}\\n\\n')\n",
    "\n",
    "\n",
    "\n",
    "# ──────────────────────────────────────────────────────────────────────── 4 ─────\n",
    "\n",
    "X = [Zp.random_element() for i in range(0, n)]\n",
    "\n",
    "# Limpiamos los posibles 0 de X\n",
    "while True:\n",
    "    try:\n",
    "        i = X.index(0)\n",
    "        X[i] = Zp.random_element()\n",
    "    except ValueError:\n",
    "        # Si no hay 0s, paramos\n",
    "        break\n",
    "    \n",
    "Y = [p(x) for x in X]\n",
    "\n",
    "\n",
    "\n",
    "# ──────────────────────────────────────────────────────────────────────── 5 ─────\n",
    "\n",
    "pares_secretos = [ (x,y) for x, y in zip(X,Y) ]\n",
    "\n",
    "print(f'Hemos obtenido {len(Y)} pares secretos')"
   ]
  },
  {
   "cell_type": "markdown",
   "metadata": {},
   "source": [
    "Mostremos ahora la recuperación del secreto, escogemos $t$ participantes al azar:"
   ]
  },
  {
   "cell_type": "code",
   "execution_count": null,
   "metadata": {},
   "outputs": [],
   "source": [
    "import random \n",
    "random.shuffle(pares_secretos)\n",
    "\n",
    "estan_de_acuerdo = pares_secretos[:t]\n",
    "\n",
    "print(f'Estos son los pares de las {t} personas que están de acuerdo:')\n",
    "\n",
    "estan_de_acuerdo"
   ]
  },
  {
   "cell_type": "markdown",
   "metadata": {},
   "source": [
    "Y ahora, estas personas que están de acuerdo, llevan a cabo la interpolación de Lagrange, obteniendo así el secreto:"
   ]
  },
  {
   "cell_type": "code",
   "execution_count": null,
   "metadata": {},
   "outputs": [],
   "source": [
    "q = K.lagrange_polynomial(estan_de_acuerdo)\n",
    "q(0)"
   ]
  },
  {
   "cell_type": "markdown",
   "metadata": {},
   "source": [
    "¿Qué ocurriría si no se llegara a la cantidad de personas requerida? "
   ]
  },
  {
   "cell_type": "code",
   "execution_count": null,
   "metadata": {},
   "outputs": [],
   "source": [
    "random.shuffle(pares_secretos)\n",
    "\n",
    "frustrados = pares_secretos[:randint(1, t-1)]\n",
    "r = K.lagrange_polynomial(frustrados)\n",
    "r(0)"
   ]
  },
  {
   "cell_type": "markdown",
   "metadata": {},
   "source": [
    "No son capaces de conseguir el secreto."
   ]
  }
 ],
 "metadata": {
  "kernelspec": {
   "display_name": "SageMath 9.4",
   "language": "sage",
   "name": "sagemath"
  },
  "language_info": {
   "codemirror_mode": {
    "name": "ipython",
    "version": 3
   },
   "file_extension": ".py",
   "mimetype": "text/x-python",
   "name": "python",
   "nbconvert_exporter": "python",
   "pygments_lexer": "ipython3",
   "version": "3.9.5"
  }
 },
 "nbformat": 4,
 "nbformat_minor": 4
}
