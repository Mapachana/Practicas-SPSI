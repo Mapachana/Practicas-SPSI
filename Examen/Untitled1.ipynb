{
 "cells": [
  {
   "cell_type": "code",
   "execution_count": 4,
   "metadata": {},
   "outputs": [],
   "source": [
    "R = PolynomialRing(GF(2), 'x').quotient('x^8 + x^4 + x^3 + x + 1', 'x')"
   ]
  },
  {
   "cell_type": "code",
   "execution_count": 5,
   "metadata": {},
   "outputs": [],
   "source": [
    "def bin_to_hex(binary):\n",
    "    return hex(int(binary,2))[2:].zfill(2)\n",
    "\n",
    "def hex_to_bin(hexadecimal):\n",
    "    return bin(int(hexadecimal, 16))[2:].zfill(8)\n",
    "\n",
    "def bin_to_pol(binary):\n",
    "    binary_list_int = [int(c) for c in binary[::-1]]\n",
    "    return R(binary_list_int)\n",
    "\n",
    "def pol_to_bin(pol):\n",
    "    return ''.join([str(c) for c in pol.list()[::-1]])\n",
    "\n",
    "def pol_to_hex(pol):\n",
    "    return bin_to_hex(pol_to_bin(pol))\n",
    "\n",
    "def hex_to_pol(hexadecimal):\n",
    "    return bin_to_pol(hex_to_bin(hexadecimal))"
   ]
  },
  {
   "cell_type": "code",
   "execution_count": 6,
   "metadata": {},
   "outputs": [
    {
     "data": {
      "text/plain": [
       "'ed'"
      ]
     },
     "execution_count": 6,
     "metadata": {},
     "output_type": "execute_result"
    }
   ],
   "source": [
    "def SubBytes(xy):\n",
    "    '''\n",
    "    - `xy`: Byte en representación hexadecimal\n",
    "    '''\n",
    "    byte_bin = hex_to_bin(xy)\n",
    "    \n",
    "    M = matrix(Integers(2),8,[\n",
    "        1,0,0,0,1,1,1,1,\n",
    "        1,1,0,0,0,1,1,1,\n",
    "        1,1,1,0,0,0,1,1,\n",
    "        1,1,1,1,0,0,0,1,\n",
    "        1,1,1,1,1,0,0,0,\n",
    "        0,1,1,1,1,1,0,0,\n",
    "        0,0,1,1,1,1,1,0,\n",
    "        0,0,0,1,1,1,1,1,\n",
    "    ])\n",
    "    c = vector(Integers(2), [1,1,0,0,0,1,1,0])\n",
    "    b = vector(Integers(2), [int(c) for c in byte_bin[::-1]])\n",
    "    \n",
    "    res = M*b + c\n",
    "    \n",
    "    if(xy != '00'):    \n",
    "        byte_pol_inv = R(byte_pol**(-1))\n",
    "        byte_pol_inv_bin = pol_to_bin(byte_pol_inv)\n",
    "        b = vector(Integers(2), [int(c) for c in byte_pol_inv_bin[::-1]])\n",
    "    else:\n",
    "        b = vector(Integers(2), [0,0,0,0,0,0,0,0])\n",
    "    \n",
    "    \n",
    "    \n",
    "    res_bin_list = list(res[::-1])\n",
    "    res_bin = ''.join([str(c) for c in res_bin_list])\n",
    "    return bin_to_hex(res_bin)\n",
    "\n",
    "SubBytes('53')"
   ]
  },
  {
   "cell_type": "code",
   "execution_count": 36,
   "metadata": {},
   "outputs": [
    {
     "data": {
      "text/plain": [
       "'50'"
      ]
     },
     "execution_count": 36,
     "metadata": {},
     "output_type": "execute_result"
    }
   ],
   "source": [
    "byte_bin = hex_to_bin(xy)\n",
    "\n",
    "M = matrix(Integers(2),8,[\n",
    "    1,0,0,0,1,1,1,1,\n",
    "    1,1,0,0,0,1,1,1,\n",
    "    1,1,1,0,0,0,1,1,\n",
    "    1,1,1,1,0,0,0,1,\n",
    "    1,1,1,1,1,0,0,0,\n",
    "    0,1,1,1,1,1,0,0,\n",
    "    0,0,1,1,1,1,1,0,\n",
    "    0,0,0,1,1,1,1,1,\n",
    "])\n",
    "c = vector(Integers(2), [1,1,0,0,0,1,1,0])\n",
    "b = vector(Integers(2), [int(c) for c in byte_bin[::-1]])\n",
    "res = (M**(-1))*(b-c)\n",
    "res = bin_to_pol(''.join([str(c) for c in res[::-1]]))\n",
    "res = R(res**(-1))\n",
    "res = pol_to_hex(res)\n",
    "res"
   ]
  },
  {
   "cell_type": "code",
   "execution_count": 33,
   "metadata": {},
   "outputs": [
    {
     "data": {
      "text/plain": [
       "[0 0 1 0 0 1 0 1]\n",
       "[1 0 0 1 0 0 1 0]\n",
       "[0 1 0 0 1 0 0 1]\n",
       "[1 0 1 0 0 1 0 0]\n",
       "[0 1 0 1 0 0 1 0]\n",
       "[0 0 1 0 1 0 0 1]\n",
       "[1 0 0 1 0 1 0 0]\n",
       "[0 1 0 0 1 0 1 0]"
      ]
     },
     "execution_count": 33,
     "metadata": {},
     "output_type": "execute_result"
    }
   ],
   "source": [
    "M**(-1)"
   ]
  },
  {
   "cell_type": "code",
   "execution_count": null,
   "metadata": {},
   "outputs": [],
   "source": []
  }
 ],
 "metadata": {
  "kernelspec": {
   "display_name": "SageMath 9.3",
   "language": "sage",
   "name": "sagemath"
  },
  "language_info": {
   "codemirror_mode": {
    "name": "ipython",
    "version": 3
   },
   "file_extension": ".py",
   "mimetype": "text/x-python",
   "name": "python",
   "nbconvert_exporter": "python",
   "pygments_lexer": "ipython3",
   "version": "3.9.2"
  }
 },
 "nbformat": 4,
 "nbformat_minor": 4
}
