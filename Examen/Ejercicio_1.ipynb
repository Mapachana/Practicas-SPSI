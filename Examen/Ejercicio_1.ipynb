{
 "cells": [
  {
   "cell_type": "markdown",
   "metadata": {},
   "source": [
    "# Ejercicio 1\n",
    "\n",
    "> **A lo largo del curso hemos tenido ocasión de comprobar la importancia de loscoeficientes de Bezout, calculados mediante el algoritmo de Euclides extendido. Nosotros hemosimplementado dicho algoritmo para el caso de números enteros en la formulación binaria peropor desgracia este algoritmo, en su pureza, ofrece unos coeficientes de Bezout muy elevados envalor absoluto y esto puede ser un inconveniente al quererlos usar como exponente de una poten-cia. Implemente en (riguroso código) Python una función que haga que esos coeficientes de Bezoutofrecidos por su algoritmo binario tengan el valor “pequeño” que daría el código clásico que acompa-ñamos a esta prueba (ficheroAlgoritmoExtEuclides.ipynb). La implementación debe entregarlaincluida en un cuaderno de Jupyter, o sea, en formato.ipynb**"
   ]
  },
  {
   "cell_type": "markdown",
   "metadata": {},
   "source": [
    "Se desactiva el parser para que se ejecute igual que en python.\n",
    "\n",
    "La función `bxeuc` es la misma función que se entregó en la tarea durante el curso."
   ]
  },
  {
   "cell_type": "code",
   "execution_count": null,
   "metadata": {},
   "outputs": [],
   "source": [
    "preparser(False)"
   ]
  },
  {
   "cell_type": "code",
   "execution_count": null,
   "metadata": {},
   "outputs": [],
   "source": [
    "# not(m & 1) = ~m&1 -> Comprueba si el número es par. Devuelve true si es par\n",
    "\n",
    "# Se ha usado el mismo código que en la tarea\n",
    "\n",
    "\n",
    "def bxeuc(m,n):\n",
    "    '''\n",
    "    Algoritmo extendido de euclides.\n",
    "    Parametros: m,n dos enteros\n",
    "    Devuelve: mcd y los coeficientes de Bezout\n",
    "    '''\n",
    "    shift = 0\n",
    "    \n",
    "    if m == 0:\n",
    "        return n, 0, 1\n",
    "    if n == 0:\n",
    "        return m, 1, 0\n",
    "    \n",
    "    # Gestionamos numeros negativos\n",
    "    signo_m = 1\n",
    "    signo_n = 1\n",
    "    \n",
    "    if m < 0:\n",
    "        m = -m\n",
    "        signo_m = -1\n",
    "    if n < 0:\n",
    "        n = -n\n",
    "        signo_n = -1\n",
    "    \n",
    "    \n",
    "    while ~m&1 and ~n&1:\n",
    "        m >>= 1\n",
    "        n >>= 1\n",
    "        \n",
    "        shift += 1 \n",
    "        \n",
    "    # m0 y n0 son m y n quitando el factor comun 2, por ejemplo 4,2 pasa a 2,1\n",
    "    m0 = m\n",
    "    n0 = n\n",
    "    \n",
    "    sm = 1\n",
    "    sn = 0\n",
    "    \n",
    "    tm = 0\n",
    "    tn = 1\n",
    "    \n",
    "    # Se mantienen invariantes m = sm*m+sn*n, n=tm*m+tn*n\n",
    "    \n",
    "    \n",
    "    while ~m&1: # Si m es par\n",
    "        if not (~sm&1 and ~sn&1 ): # Si sm o sn alguno no es par\n",
    "            # garantizamos que sm y sn sean pares\n",
    "            sm = sm - n0\n",
    "            sn = sn + m0\n",
    "            \n",
    "        # Quitamos el factor comun 2 de m, sm y sn, luego la identidad m = sm*m+sn*n se mantiene\n",
    "        m >>= 1\n",
    "        sm >>= 1\n",
    "        sn >>= 1\n",
    "    \n",
    "    while n != 0:\n",
    "        while ~n&1: # SI n par\n",
    "            if not (~tm&1 and ~tn&1): # Si tm o tn alguno no es par\n",
    "                # Aseguramos que tm y tn son pares\n",
    "                tm = tm - n0\n",
    "                tn = tn + m0\n",
    "                \n",
    "            # Eliminamos el factor comun 2 de n, tm y tn, luego la identidad n=tm*m+tn*n se mantiene\n",
    "            n >>= 1\n",
    "            tm >>= 1\n",
    "            tn >>= 1\n",
    "        \n",
    "        # Si m>n intercambiamos las variables\n",
    "        if m > n: \n",
    "            m, n, sm, tm, sn, tn = n, m, tm, sm, tn, sn\n",
    "            \n",
    "        \n",
    "        # Vamos quitando tantas veces m a n\n",
    "        n = n - m\n",
    "        tm = tm - sm\n",
    "        tn = tn - sn\n",
    "        \n",
    "    g = m << shift\n",
    "    u = signo_m*sm\n",
    "    v = signo_n*sn\n",
    "\n",
    "    return g, u, v"
   ]
  },
  {
   "cell_type": "markdown",
   "metadata": {},
   "source": [
    "Para obtener los coeficientes de Bezout se usa la función `bxeuc` y para minimizar su valor absoluto usaremos módulos basándonos en:\n",
    "\n",
    "Sean $(u,v)$ y $(u',v')$ dos soluciones distintas a de la identidad $mu+nv=g$. Entonces restando tenemos que $$m(u-u')+n(v-v')=0$$\n",
    "\n",
    "Por tanto, $$m(u-u')=n(v'-v)$$\n",
    "\n",
    "Ahora consideramos $m'=m/g$ y $n'=n/g$, que son coprimos. Reescribimos la expresión obtenida anteriormente como:\n",
    "$$m'g(u-u')=n'g(v'-v)$$\n",
    "\n",
    "Luego $m'|(v'-v)$ y $n'|(u-u')$, o equivalentemente $u'=u-n'k$ y $v'=v+m'k$ para algún $k$ entero.\n",
    "\n",
    "Entonces $u'\\equiv u \\mod n'$ y $v'\\equiv v \\mod m'$."
   ]
  },
  {
   "cell_type": "code",
   "execution_count": null,
   "metadata": {},
   "outputs": [],
   "source": [
    "def bxeuc_min_coefs(m,n):  \n",
    "    g, u, v = bxeuc(m, n)\n",
    "    \n",
    "    a, b = m/g, n/g\n",
    "\n",
    "    u, v = u % b, v % a\n",
    "    \n",
    "    if abs(u-b) < abs(u):\n",
    "        u = u-b\n",
    "    \n",
    "    if abs(v-a) < abs(v):\n",
    "        v = v-a\n",
    "    \n",
    "    return g, u, v"
   ]
  },
  {
   "cell_type": "code",
   "execution_count": null,
   "metadata": {},
   "outputs": [],
   "source": [
    "m = 1426668559730\n",
    "n = 810653094756\n",
    "\n",
    "g, u, v = bxeuc_min_coefs(m, n)\n",
    "\n",
    "print(\"Máximo común divisor obtenido por el algoritmo: {}\".format(g))\n",
    "print(\"Resultado de la identidad usando los coeficientes {}\".format(int(u)*m+int(v)*n))\n",
    "print(\"Coeficientes: {}, {}\".format(u,v))\n",
    "\n",
    "print(g == int(u)*m+int(v)*n)"
   ]
  },
  {
   "cell_type": "code",
   "execution_count": null,
   "metadata": {},
   "outputs": [],
   "source": [
    "lsign = lambda x: x and (1,-1)[x<0]\n",
    "\n",
    "def xeuclid(a,b):\n",
    "    m, n = int(a), int(b)\n",
    "    u0, u1 = 1, 0\n",
    "    v0, v1 = 0, 1\n",
    "    \n",
    "    while n:\n",
    "        q = m // n\n",
    "        m, n = n, m % n\n",
    "        u0, u1 = u1, u0 - q * u1\n",
    "        v0, v1 = v1, v0 - q * v1\n",
    "    sg = lsign(m)\n",
    "\n",
    "    return m * sg, u0 * sg, v0 * sg"
   ]
  },
  {
   "cell_type": "code",
   "execution_count": null,
   "metadata": {},
   "outputs": [],
   "source": [
    "# Comprobación de que nos dan los coeficientes originales:\n",
    "\n",
    "def verificar(m, n):\n",
    "    g, u, v = bxeuc_min_coefs(m, n)\n",
    "    g2, u2, v2 = xeuclid(m, n)\n",
    "    \n",
    "\n",
    "    return g == int(u)*m+int(v)*n and u == u2 and v == v2"
   ]
  },
  {
   "cell_type": "code",
   "execution_count": null,
   "metadata": {},
   "outputs": [],
   "source": [
    "verificar(m,   n) and \\\n",
    "verificar(n,   m) and \\\n",
    "verificar(-m,  n) and \\\n",
    "verificar(m,  -n) and \\\n",
    "verificar(-m, -n) and \\\n",
    "verificar(-n, -m)"
   ]
  },
  {
   "cell_type": "code",
   "execution_count": null,
   "metadata": {},
   "outputs": [],
   "source": [
    "preparser(True)"
   ]
  },
  {
   "cell_type": "markdown",
   "metadata": {},
   "source": [
    "https://math.stackexchange.com/questions/1724468/bezout-coefficients-produced-by-extended-euclidean-algorithm-for-a-and-b\n",
    "https://math.stackexchange.com/questions/237372/finding-positive-b%C3%A9zout-coefficients"
   ]
  }
 ],
 "metadata": {
  "kernelspec": {
   "display_name": "SageMath 9.1",
   "language": "sage",
   "name": "sagemath"
  },
  "language_info": {
   "codemirror_mode": {
    "name": "ipython",
    "version": 3
   },
   "file_extension": ".py",
   "mimetype": "text/x-python",
   "name": "python",
   "nbconvert_exporter": "python",
   "pygments_lexer": "ipython3",
   "version": "3.7.3"
  }
 },
 "nbformat": 4,
 "nbformat_minor": 2
}
