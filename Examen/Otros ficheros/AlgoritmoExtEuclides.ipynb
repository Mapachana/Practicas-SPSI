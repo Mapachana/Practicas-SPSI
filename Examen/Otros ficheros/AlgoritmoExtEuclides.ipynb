{
 "cells": [
  {
   "cell_type": "markdown",
   "metadata": {},
   "source": [
    "## Algoritmo Extendido de Euclides, versión clásica."
   ]
  },
  {
   "cell_type": "code",
   "execution_count": null,
   "metadata": {},
   "outputs": [],
   "source": [
    "lsign = lambda x: x and (1,-1)[x<0]"
   ]
  },
  {
   "cell_type": "code",
   "execution_count": null,
   "metadata": {},
   "outputs": [],
   "source": [
    "def xeuclid(a,b):\n",
    "    m, n = int(a), int(b)\n",
    "    u0, u1 = 1, 0\n",
    "    v0, v1 = 0, 1\n",
    "    while n:\n",
    "        q = m // n\n",
    "        m, n = n, m % n\n",
    "        u0, u1 = u1, u0 - q * u1\n",
    "        v0, v1 = v1, v0 - q * v1\n",
    "    sg = lsign(m)\n",
    "    return m * sg, u0 * sg, v0 * sg"
   ]
  },
  {
   "cell_type": "code",
   "execution_count": null,
   "metadata": {},
   "outputs": [],
   "source": [
    "xeuclid(1426668559730, 810653094756)"
   ]
  },
  {
   "cell_type": "code",
   "execution_count": null,
   "metadata": {},
   "outputs": [],
   "source": [
    "1417082 == 1426668559730 * (-189617) + 810653094756 * 333707"
   ]
  }
 ],
 "metadata": {
  "kernelspec": {
   "display_name": "Python 3",
   "language": "python",
   "name": "python3"
  },
  "language_info": {
   "codemirror_mode": {
    "name": "ipython",
    "version": 3
   },
   "file_extension": ".py",
   "mimetype": "text/x-python",
   "name": "python",
   "nbconvert_exporter": "python",
   "pygments_lexer": "ipython3",
   "version": "3.8.7"
  }
 },
 "nbformat": 4,
 "nbformat_minor": 4
}
