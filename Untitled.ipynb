{
 "cells": [
  {
   "cell_type": "code",
   "execution_count": null,
   "id": "111502de",
   "metadata": {},
   "outputs": [],
   "source": []
  },
  {
   "cell_type": "code",
   "execution_count": 13,
   "id": "c75cc2a5",
   "metadata": {},
   "outputs": [],
   "source": [
    "def bxeuc(m,n):\n",
    "    '''Función que calcula el máximo común divisor de dos números enteros m y n'''\n",
    "    \n",
    "    g = 1\n",
    "    \n",
    "    while m%2 == 0 and n%2 == 0 :\n",
    "        m = m/2\n",
    "        n = n/2\n",
    "        g = 2*g\n",
    "    \n",
    "    r = m\n",
    "    s = n\n",
    "    A = 1\n",
    "    B = 0\n",
    "    C = 0\n",
    "    D = 1\n",
    "    \n",
    "    while r != 0:\n",
    "    \n",
    "        while r%2 == 0:\n",
    "            r = r/2\n",
    "            if A%2 == 0 and B%2 == 0:\n",
    "                A = A/2\n",
    "                B = B/2\n",
    "            else:\n",
    "                A = (A+n)/2\n",
    "                B = (B-m)/2\n",
    "\n",
    "        while s%2 == 0:\n",
    "            s = s/2\n",
    "            if C%2 == 0 and D%2 == 0:\n",
    "                C = C/2\n",
    "                D = D/2\n",
    "            else:\n",
    "                C = (C+n)/2\n",
    "                D = (D-m)/2\n",
    "\n",
    "        if r>=s:\n",
    "            r = r-s\n",
    "            A = A-C\n",
    "            B = B-D\n",
    "        else:\n",
    "            s = s-r\n",
    "            C = C-A\n",
    "            D = D-B\n",
    "\n",
    "        if r == 0:\n",
    "            u = C\n",
    "            v = D\n",
    "            g = g*s\n",
    "    \n",
    "    \n",
    "    return g, u, v\n",
    "        "
   ]
  },
  {
   "cell_type": "code",
   "execution_count": 20,
   "id": "a484be28",
   "metadata": {},
   "outputs": [
    {
     "name": "stdout",
     "output_type": "stream",
     "text": [
      "(21.0, -181.0, 206.0)\n"
     ]
    }
   ],
   "source": [
    "aux = bxeuc(693,609)\n",
    "print(aux)"
   ]
  },
  {
   "cell_type": "code",
   "execution_count": null,
   "id": "bbe2907e",
   "metadata": {},
   "outputs": [],
   "source": []
  }
 ],
 "metadata": {
  "kernelspec": {
   "display_name": "Python 3",
   "language": "python",
   "name": "python3"
  },
  "language_info": {
   "codemirror_mode": {
    "name": "ipython",
    "version": 3
   },
   "file_extension": ".py",
   "mimetype": "text/x-python",
   "name": "python",
   "nbconvert_exporter": "python",
   "pygments_lexer": "ipython3",
   "version": "3.8.8"
  }
 },
 "nbformat": 4,
 "nbformat_minor": 5
}
