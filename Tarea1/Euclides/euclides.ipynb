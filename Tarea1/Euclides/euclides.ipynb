{
 "cells": [
  {
   "cell_type": "markdown",
   "id": "597776b4",
   "metadata": {},
   "source": [
    "# Tareas de SPSI\n",
    "\n",
    "> Grupo 22\n",
    ">\n",
    "> Ana Buendía Ruiz-Azuaga\n",
    ">\n",
    "> Paula Villanueva Núñez"
   ]
  },
  {
   "cell_type": "markdown",
   "id": "f42c1fc6",
   "metadata": {},
   "source": [
    "## Tarea 1\n",
    "**Algoritmo extendedido de Euclides**"
   ]
  },
  {
   "cell_type": "code",
   "execution_count": 1,
   "id": "e64dcdff",
   "metadata": {},
   "outputs": [],
   "source": [
    "# not(m & 1) = ~m&1 -> Comprueba si el número es par. Devuelve true si es par\n",
    "\n",
    "def bxeuc(m,n):\n",
    "    '''\n",
    "    Algoritmo extendido de euclides.\n",
    "    Parametros: m,n dos enteros\n",
    "    Devuelve: mcd y los coeficientes de Bezout\n",
    "    '''\n",
    "    shift = 0\n",
    "    \n",
    "    if m == 0:\n",
    "        return n, 0, 1\n",
    "    if n == 0:\n",
    "        return m, 1, 0\n",
    "    \n",
    "    # Gestionamos numeros negativos\n",
    "    signo_m = 1\n",
    "    signo_n = 1\n",
    "    \n",
    "    if m < 0:\n",
    "        m = -m\n",
    "        signo_m = -1\n",
    "    if n < 0:\n",
    "        n = -n\n",
    "        signo_n = -1\n",
    "    \n",
    "    \n",
    "    while ~m&1 and ~n&1:\n",
    "        m >>= 1\n",
    "        n >>= 1\n",
    "        \n",
    "        shift += 1 \n",
    "        \n",
    "    # m0 y n0 son m y n quitando el factor comun 2, por ejemplo 4,2 pasa a 2,1\n",
    "    m0 = m\n",
    "    n0 = n\n",
    "    \n",
    "    sm = 1\n",
    "    sn = 0\n",
    "    \n",
    "    tm = 0\n",
    "    tn = 1\n",
    "    \n",
    "    # Se mantienen invariantes m = sm*m+sn*n, n=tm*m+tn*n\n",
    "    \n",
    "    \n",
    "    while ~m&1: # Si m es par\n",
    "        if not (~sm&1 and ~sn&1 ): # Si sm o sn alguno no es par\n",
    "            # garantizamos que sm y sn sean pares\n",
    "            sm = sm - n0\n",
    "            sn = sn + m0\n",
    "            \n",
    "        # Quitamos el factor comun 2 de m, sm y sn, luego la identidad m = sm*m+sn*n se mantiene\n",
    "        m >>= 1\n",
    "        sm >>= 1\n",
    "        sn >>= 1\n",
    "    \n",
    "    while n != 0:\n",
    "        while ~n&1: # SI n par\n",
    "            if not (~tm&1 and ~tn&1): # Si tm o tn alguno no es par\n",
    "                # Aseguramos que tm y tn son pares\n",
    "                tm = tm - n0\n",
    "                tn = tn + m0\n",
    "                \n",
    "            # Eliminamos el factor comun 2 de n, tm y tn, luego la identidad n=tm*m+tn*n se mantiene\n",
    "            n >>= 1\n",
    "            tm >>= 1\n",
    "            tn >>= 1\n",
    "        \n",
    "        # Si m>n intercambiamos las variables\n",
    "        if m > n: \n",
    "            m, n, sm, tm, sn, tn = n, m, tm, sm, tn, sn\n",
    "            \n",
    "        \n",
    "        # Vamos quitando tantas veces m a n\n",
    "        n = n - m\n",
    "        tm = tm - sm\n",
    "        tn = tn - sn\n",
    "        \n",
    "    g = m << shift\n",
    "    u = signo_m*sm\n",
    "    v = signo_n*sn\n",
    "\n",
    "    return g, u, v\n",
    "    \n",
    "    "
   ]
  },
  {
   "cell_type": "code",
   "execution_count": 2,
   "id": "4e65e480",
   "metadata": {},
   "outputs": [
    {
     "name": "stdout",
     "output_type": "stream",
     "text": [
      "Máximo común divisor obtenido por el algoritmo: 21\n",
      "Resultado de la identidad usando los coeficientes 21\n",
      "True\n"
     ]
    }
   ],
   "source": [
    "m = 693\n",
    "n = 609\n",
    "\n",
    "g, u, v = bxeuc(m, n)\n",
    "\n",
    "print(\"Máximo común divisor obtenido por el algoritmo: {}\".format(g))\n",
    "print(\"Resultado de la identidad usando los coeficientes {}\".format(u*m+v*n))\n",
    "\n",
    "print(g == u*m+v*n)"
   ]
  }
 ],
 "metadata": {
  "kernelspec": {
   "display_name": "Python 3 (ipykernel)",
   "language": "python",
   "name": "python3"
  },
  "language_info": {
   "codemirror_mode": {
    "name": "ipython",
    "version": 3
   },
   "file_extension": ".py",
   "mimetype": "text/x-python",
   "name": "python",
   "nbconvert_exporter": "python",
   "pygments_lexer": "ipython3",
   "version": "3.8.8"
  }
 },
 "nbformat": 4,
 "nbformat_minor": 5
}
